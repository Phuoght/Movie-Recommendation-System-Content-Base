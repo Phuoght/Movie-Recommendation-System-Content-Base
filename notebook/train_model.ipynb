{
 "cells": [
  {
   "cell_type": "code",
   "execution_count": null,
   "metadata": {},
   "outputs": [
    {
     "name": "stderr",
     "output_type": "stream",
     "text": [
      "d:\\All Project\\Project_MovieRecommendSystem\\.venv\\lib\\site-packages\\tqdm\\auto.py:21: TqdmWarning: IProgress not found. Please update jupyter and ipywidgets. See https://ipywidgets.readthedocs.io/en/stable/user_install.html\n",
      "  from .autonotebook import tqdm as notebook_tqdm\n"
     ]
    }
   ],
   "source": [
    "import pandas as pd\n",
    "from transformers import AutoTokenizer, AutoModel\n",
    "from torch.utils.data import DataLoader, Dataset\n",
    "from torch import nn\n",
    "import torch\n",
    "from sklearn.model_selection import train_test_split\n",
    "from tqdm import tqdm\n",
    "import torch.optim as optim\n",
    "\n"
   ]
  },
  {
   "cell_type": "code",
   "execution_count": null,
   "metadata": {},
   "outputs": [],
   "source": [
    "df = pd.read_csv('../data/data_similarity.csv', usecols=[\"Describe_1\", \"Describe_2\", \"Similarity_score\"])"
   ]
  },
  {
   "cell_type": "code",
   "execution_count": null,
   "metadata": {},
   "outputs": [],
   "source": [
    "df"
   ]
  },
  {
   "cell_type": "code",
   "execution_count": null,
   "metadata": {},
   "outputs": [],
   "source": [
    "df.duplicated().sum()"
   ]
  },
  {
   "cell_type": "code",
   "execution_count": null,
   "metadata": {},
   "outputs": [],
   "source": [
    "df = df.drop_duplicates()\n",
    "print(df.duplicated().sum())\n",
    "print(df.shape)"
   ]
  },
  {
   "cell_type": "code",
   "execution_count": null,
   "metadata": {},
   "outputs": [],
   "source": [
    "movie_positive = df[df['Similarity_score'] >= 0.7]\n",
    "train_df_positive, temp_df_positive = train_test_split(movie_positive, test_size=0.2, random_state=42)\n",
    "valid_df_positive, test_df_positive = train_test_split(temp_df_positive, test_size=0.5, random_state=42)\n"
   ]
  },
  {
   "cell_type": "code",
   "execution_count": null,
   "metadata": {},
   "outputs": [],
   "source": [
    "movie_negative = df[df['Similarity_score'] <= 0.3].sample(n=1000000, random_state=42)\n",
    "train_df_negative, temp_df_negative = train_test_split(movie_negative, test_size=0.2, random_state=42)\n",
    "valid_df_negative, test_df_negative = train_test_split(temp_df_negative, test_size=0.5, random_state=42)"
   ]
  },
  {
   "cell_type": "code",
   "execution_count": null,
   "metadata": {},
   "outputs": [],
   "source": [
    "movie_hard_negative = df[(df['Similarity_score'] > 0.3) & (df['Similarity_score'] < 0.7)].sample(n=1000000, random_state=42)\n",
    "train_df_hard_negative, temp_df_hard_negative = train_test_split(movie_hard_negative, test_size=0.2, random_state=42)\n",
    "valid_df_hard_negative, test_df_hard_negative = train_test_split(temp_df_hard_negative, test_size=0.5, random_state=42)"
   ]
  },
  {
   "cell_type": "code",
   "execution_count": null,
   "metadata": {},
   "outputs": [],
   "source": [
    "train_df = pd.concat([train_df_positive, train_df_hard_negative, train_df_negative])\n",
    "valid_df = pd.concat([valid_df_positive, valid_df_hard_negative, valid_df_negative])\n",
    "test_df = pd.concat([test_df_positive, test_df_hard_negative, test_df_negative])\n",
    "\n",
    "train_df = train_df.sample(frac=1, random_state=42)\n",
    "valid_df = valid_df.sample(frac=1, random_state=42)\n",
    "test_df = test_df.sample(frac=1, random_state=42)\n",
    "print(train_df.shape)\n",
    "print(valid_df.shape)\n",
    "print(test_df.shape)\n"
   ]
  },
  {
   "cell_type": "code",
   "execution_count": null,
   "metadata": {},
   "outputs": [],
   "source": [
    "train_df.to_parquet(\"../data/data_train.parquet\", engine=\"fastparquet\", index=False)\n",
    "valid_df.to_parquet(\"../data/data_valid.parquet\", engine=\"fastparquet\", index=False)\n",
    "test_df.to_parquet(\"../data/data_test.parquet\", engine=\"fastparquet\", index=False)"
   ]
  },
  {
   "cell_type": "code",
   "execution_count": 3,
   "metadata": {},
   "outputs": [],
   "source": [
    "train_df = pd.read_parquet(\"../data/data_train.parquet\")\n",
    "valid_df = pd.read_parquet(\"../data/data_valid.parquet\")\n",
    "test_df = pd.read_parquet(\"../data/data_test.parquet\")"
   ]
  },
  {
   "cell_type": "code",
   "execution_count": 4,
   "metadata": {},
   "outputs": [
    {
     "data": {
      "application/vnd.microsoft.datawrangler.viewer.v0+json": {
       "columns": [
        {
         "name": "index",
         "rawType": "int64",
         "type": "integer"
        },
        {
         "name": "Describe_1",
         "rawType": "object",
         "type": "string"
        },
        {
         "name": "Describe_2",
         "rawType": "object",
         "type": "string"
        },
        {
         "name": "Similarity_score",
         "rawType": "float64",
         "type": "float"
        }
       ],
       "conversionMethod": "pd.DataFrame",
       "ref": "9b255fb3-a75c-4cae-87e7-72c62d6cdd7f",
       "rows": [
        [
         "0",
         "Backstreet Rookie 2020u200f Choi DaeHyun ( Ji ChangWook ) tình cờ gặp một nhóm nữ sinh trung học bao gồm Jung SaetByul ( Kim YouJung ) Các cô gái trông giống như những kẻ gây rối Jung SaetByul yêu cầu Choi DaeHyun làm một việc vặt cho họ đó là mua thuốc lá từ một cửa hàng tiện lợi Choi DaeHyun mua thuốc lá cho họ và Jung SaetByul nhận được số điện thoại di động của anh nhưng anh không bao giờ nhận được cuộc gọi từ cô 4 năm sau Choi DaeHyun hiện 33 tuổi Anh ta điều hành một cửa hàng tiện lợi nhỏ sau khi anh ta nghỉ việc tại một công ty lớn Anh ta đang tìm một nhân viên bán thời gian để làm ca đêm tại cửa hàng tiện lợi của mình Jung SaetByul đến cửa hàng của anh ấy và cô ấy sớm bắt đầu làm việc ở đó Cô ấy không còn là kẻ gây rối nữa Jung SaetByul hiện là một sinh viên đại học và được hướng dẫn bởi đạo đức mạnh mẽ của cô xa0là câu chuyện tình giữa anh chủ cửa hàng tiện lợi Choi Dae Hyun (Ji Chang Wook) với cô nhân viên lập dị Jung Saet Byul (Kim Yoo Jung) Choi Dae Hyun là anh chàng mỹ nam nhưng vụng về và ngốc nghếch Anh quyết định từ bỏ công việc ở một công ty lớn để quản lý một cửa hàng tiện lợi cho riêng mình Tại đây anh gặp cô nàng Saet Byul kỳ quặc  một nữ nhân viên bán thời gian của cửa hàng Saet Byul được miêu tả là cô gái vừa tinh nghịch vừa lập dị và đang quyết tâm từ bỏ quá khứ quậy phá để trở thành người phụ nữ đấu tranh cho công lý",
         "Simple Man 2016 Khế Ước Của Quỷxa0Simple Man (2016) Bộ phim Khế Ước Của Quỷ xoay quanh 4 nhân vật bình thường tình cờ làm cuộc trao đổi với ác quỷ đổi lại họ nhận được một số siêu năng lực nhỏ có thể thỏa mãn yêu cầu của mỗi người Nhưng sau đó họ phát hiện đằng sau những siêu năng lực này là một âm mưu lớn khác",
         "0.39"
        ],
        [
         "1",
         "Shin Masked Rider 2023 một bộ phim siêu anh hùng Tokusatsu của Nhật Bản phục vụ như một phiên bản làm lại của loạt phim truyền hình năm 1971 Kamen Rider và cũng để kỷ niệm 50 năm thành lập của dòng phim này Trong bộ phim Takeshi Hongo cùng với đồng đội Ruriko Midorikawa chiến đấu chống lại một tổ chức khủng bố chịu trách nhiệm về việc gia tăng sức mạnh cho anh và ngăn chặn họ chiếm đóng xã hội Takeshi Hongo bị bắt cóc và biến thành Batta Augment01 bởi tổ chức Shocker Trong lúc Hongo trốn thoát cùng với Ruriko Midorikawa Kumo Augment01 truy đuổi và nhóm đàn em của hắn giả danh là cảnh sát hỗn loạn để bắt Ruriko Tuy nhiên Hongo đã bảo vệ Ruriko và biến hình thành hình dạng gia tăng của mình để họ cùng nhau thoát vào một căn nhà ẩn Tiến sĩ Hiroshi Midorikawa chuyển Hongo về hình dạng thường dân tại nơi ẩn náu bằng năng lượng prana Kumo Augment01 đến và tấn công tiến sĩ Midorikawa sau đó bắt cóc con gái của ông ta Hongo truy đuổi và đánh bại Kumo Augment01 bằng khả năng gia tăng của mình và được gọi là Kamen Rider Sau đó hai người gặp Tachibana và Taki hai thành viên của chính phủ đề nghị cung cấp họ sự bảo vệ và thông tin trong việc tiêu diệt tổ chức Shocker Ruriko thú nhận rằng Shocker là một nhóm tội ác được hình thành không phải để hướng dẫn con người đến hạnh phúc mà là để chi phối những người đang trong tuyệt vọng Ruriko sợ sức mạnh của mình và không chắc chắn liệu có nên chiến đấu hay không Hongo và Ruriko đánh bại các tay sai của Shocker theo yêu cầu của chính phủ Nhật Bản Sau đó họ đối mặt với nhà khoa học Kumo Augment01 của Shocker Koumori Augment01 người đang lên kế hoạch triển khai một loại virus để chi phối cư dân sử dụng thông tin thu được từ các cơ quan chính phủ diễn biến thế nào mời bạn xem ngay trên   hôm nay",
         "Star Trek 9 Insurrection 1998 Trong chuyến hành trình đi tìm một hành tinh không sống được để phục vụ dự án Genesis con tàu vũ trụ USS Reliant đã phát hiện ra một hành tinh nơi đô đốc Khan và phi hành đoàn của hắn đã bị đô đốc Kirk tống khứ lên đó vào 19 năm trước",
         "0.35"
        ],
        [
         "2",
         "My Name Is Vendetta 2022 Sofia là một thiếu niên trầm lặng dành thời gian của mình giữa các trận đấu khúc côn cầu mà cô ấy là nhà vô địch và các bài học lái xe địa hình Cho đến thời điểm cô ấy không vâng lời Santo cha cô ấy cô ấy đã bí mật chụp ảnh anh ấy và đăng một bức ảnh lên Instagram của cô ấy Bài đăng nhỏ đủ để thay đổi cuộc đời họ mãi mãi Lần theo dấu vết của máy tính hai tên tội phạm vào nhà của họ và giết mẹ và chú của Sofia một cách dã man dẫn đến một vụ dàn xếp tỷ số đã được ấp ủ trong gần hai mươi năm Sofia sẽ phát hiện ra rằng sự thật luôn bị che giấu khỏi cô và Santo che giấu một quá khứ đen tối với tư cách là một chi nhánh của Ndrangheta Không phải không có xung đột Sofia sẽ ôm lấy di sản của sự giận dữ và bạo lực đồng thời sẽ liên minh với cha mình để tìm cách trả thù tàn nhẫn",
         "Eiga Sumairu Purikyua Ehon no naka wa minna chiguhagu 2012 Bản phác thảo cốt truyện bằng tiếng Anh cho Eiga Sumairu Purikyua Ehon no naka wa minna chiguhagu (2012) Bộ phim đưa các Precure vào một thế giới bên trong một cuốn sách ảnh nơi họ được hướng dẫn bởi Niko một cư dân bí ẩn của thế giới sách tranh ",
         "0.41"
        ],
        [
         "3",
         "Power Ranger Mighty Morphin The Movie 1995 Bộ phim ăn khách năm 1995 Power Rangers ra mắt và mang đến cho chúng ta một cuộc phiêu lưu giả tưởng đầy kỳ thú hành động và hài hước Sáu thiếu niên Tommy Kimberly Adam Billy Rocky và Aisha đã khám phá ra sức mạnh để chống lại các thế lực xấu xaxa0Một quả trứng khổng lồ được khai quật ở Angel Grovexa0Chúa tể Zedd và Rita Repulsa điều tra quả trứng và giải phóng sinh vật bên trong  Ivan Ooze người mà Zordon đã nhốt anh ta bên trong quả trứng sáu nghìn năm trướcxa0Sau khi được thả Ooze rời đi để trả thù Zordonxa0Và bây giờ Zordon trên chiếc giường chết kết tinh của mình đang hấp hối vì không có sức mạnh không có sức mạnh thì Zordon of Eltar sẽ không bao giờ tồn tạixa0Bây giờ số phận của vũ trụ nằm trong tay họxa0Nhưng lần này các Power Rangers hướng đến một hành tinh xa xôi để gặp một cô bé chiến binh mặc bikini tên là Dulcea người đã truyền đạt trí tuệ và sức mạnh cổ xưaxa0Nhưng giờ đây họ đã lấy lại được sức mạnh và trở thành Power Rangers một lần nữa giờ đây họ sẽ quay trở lại công việc kinh doanh và đánh bại Ivan Ooze bằng mọi giá",
         "Dragon Ball Z Movie 11 Super Senshi Gekiha Katsu no wa Ore da 1994 Chuyện kể rằng một đối thủ cũ của Hercule muốn trả thù vì đã phá hỏng giấc mơ Võ Thuật của anh taxa0Kế hoạch của anh ta bao gồm việc hồi sinh Super Saiyan Broly huyền thoại như một con quái vật công nghệ sinh họcxa0Vì vậy Trunks Goten Krillin 18 tuổi và cả Hercule đã hợp sức để chiến đấu với con quái vật này Ông Satan bị một đối thủ cũ thách đấu và ông được đưa đến một hòn đảo nơi cuộc chiến sẽ được tổ chứcxa0Đồng hành cùng anh ta là Android 18 người đang đảm bảo rằng anh ta không bỏ qua thị trấn trước khi trả số tiền anh ta nợ cô ấy vì đã giúp anh ta giành chiến thắng trong Giải đấu võ thuật thế giới và Trunks và Goten những người đi theo tàuxa0Khi đến đó họ phát hiện ra rằng đối thủ không muốn chiến đấu với chính mình mà đã tạo ra một lực lượng gồm các chiến binh sinh học được biến đổi gen để chống lại Satanxa0Thật không may cho những người có liên quan một trong những chiến binh sinh học này được tạo ra từ DNA của Broly và khi anh ta được thả ra tất cả các vụ cá cược đều bị tắt",
         "0.43"
        ],
        [
         "4",
         "Robot Sori  Sori Voice From The Heart 2016 Cốt truyện xoay quanh một vệ tinh robot với trí thông minh nhân tạo rơi xuống đất nước Hàn Quốc và ẩn chứa manh mối về một người cha đang ráo riết tìm kiếm đứa con gái mất tích của mình",
         "New Smiling Proud Wanderer 2018 Tân Tiếu Ngạo Giang Hồ 2018 Tân Tiếu Ngạo Giang Hồ 2018 có độ dài 30 tập và sẽ phát sóng vào ngày 26 tháng 2 Danh sách các diễn viên tham gia trong phim Một số nhân vật đáng chú ý trong phim gồm có Đinh Quán Sâm vai Linh Hồ Xung Trần Tấn vai Lâm Bình Chi Tiết Hạo Tịnh vai Nhậm Doanh Doanh Lý Hạo Hàn (Nhạc Bất Quần) Vương Giai Triệt (Tái Ngạn) Hạnh) Kim Giai Kiệt (Huang Wentian) Lưu Gia Đống (Lam Phượng Hoàng) Quy Đông Nhiên (Điền Bá Quang) Khương Trác Quân (Nghĩa Lâm)",
         "0.24"
        ],
        [
         "5",
         "Ponyo on the Cliff by the Sea 2008 Fujimoto một nhà khoa học  phù thủy từng là người  sống dưới nước cùng con gái Brunhilde và vô số em gái nhỏ hơn của cô ấy Trong khi cô và các anh chị em của mình đang đi chơi với cha của họ trên chiếc tàu ngầm bốn chân của ông  Brunhilde lẻn ra ngoài và thả trôi trên lưng một con sứa  Sau cuộc chạm trán với một ngư dân đánh cá cô bị mắc kẹt trong một chiếc lọ thủy tinh và trôi dạt vào bờ của một thị trấn đánh cá nhỏ nơi cô được cậu bé năm tuổi Sōsuke cứu Trong khi đập vỡ chiếc lọ bằng một tảng đá Sōsuke tự cắt ngón tay của mình Brunhilde liếm máu làm vết thương lành gần như ngay lập tức Sōsuke đặt tên cho cô ấy là Ponyo và hứa sẽ bảo vệ cô ấy Trong khi đó Fujimoto điên cuồng tìm kiếm đứa con gái thất lạc của mình người mà ông tin rằng đã bị bắt cóc Anh ta gọi các linh hồn sóng của mình để phục hồi cô ấy khiến Sōsuke đau lòng và bối rối trước những gì đã xảy ra ",
         "I Daniel Blake 2016 I Am Daniel Blake I Daniel Blake 2016 Phim I Daniel Blake đề cập đến hệ thống bảo trợ xã hội ở Anh với câu chuyện về một người thợ mộc tàn tật và một bà mẹ đơn thân của hai đứa con sống ở thành phố phía đông bắc thị trấn Newcastle Dave Johns vào vai anh thợ mộc Daniel  người bị từ chối trợ cấp xã hội khi không thể làm việc Anh kết bạn với người mẹ trẻ Katie do Hayley Squires thủ vai khi họ ủng hộ hệ thống phúc lợi xã hội",
         "0.21"
        ],
        [
         "6",
         "The River Pirates 2018 Một câu chuyện vượt thời gian về cuộc phiêu lưu của một cậu bé lớn lên tại một thị trấn nhỏ phía Nam Thành phố Yazoo vào những năm 1940 trong Thế chiến thứ hai đi lang thang với bạn bè chơi những trò đùa thực tế và gặp rắc rối",
         "Judge BaoAcademy Intrigue 2023 Kỳ thi Đình sắp đến nhưng lại lan truyền tin đồn rằng các thư sinh tại Thư viện Ứng Thiên đang bị Yên La tác mệnh Sau khi nhận được một bức thư kỳ lạ từ người thầy yêu dấu Bao Chẩn đã quyết định rời đi để khám phá sự thật tại thư viện Tuy nhiên thư viện không hề đơn giản như vẻ bề ngoài người đứng đầu viện đã biến mất và các thư sinh liên tiếp gặp nạn Không gian toàn bộ thư viện bao trùm trong không khí kỳ quái Bao Chẩn để tìm lại người thầy và ngăn chặn hành động giết người của Yên La đã quyết tâm điều tra sự việc Khi sự thật dần tiết lộ những dấu vết bắt đầu dệt thành một mạch và Bao Chẩn phát hiện ra rằng còn có một âm mưu lớn hơn đang ẩn giấu trong triều đình",
         "0.22"
        ],
        [
         "7",
         "Swan Song 2021 Lấy bối cảnh tương lai gần Swan Song là một cuộc hành trình đầy cảm xúc mạnh mẽ được kể qua con mắt của Cameron (Mahershala Ali) một người chồng yêu thương và người cha bị chẩn đoán mắc bệnh nan y được bác sĩ đưa ra một giải pháp thay thế (Glenn Close ) để che chắn cho gia đình mình khỏi đau buồnxa0Khi Cam vật lộn với việc liệu có nên thay đổi số phận của gia đình mình hay không anh học được nhiều điều về cuộc sống và tình yêu hơn những gì anh tưởng tượngxa0Swan Song khám phá xem chúng ta sẽ đi bao xa và chúng ta sẵn sàng hy sinh bao nhiêu để mang lại cuộc sống hạnh phúc hơn cho những người chúng ta yêu thương",
         "The Call 2013 2013 Đây là một bộ phim kinh dị hay và cuốn hút bạn ngay từ đầuxa0Không có thời gian ngừng hoạt động và không có lúc nào bộ phim bị chậm như nhiều bộ phim kinh dị khác Jordan Turner (xa0 xa0) là một nhân viên điều hành 911 giàu kinh nghiệm nhưng khi cô ấy mắc lỗi trong phán đoán và cuộc gọi kết thúc không tốt Jordan cảm thấy bối rối và không chắc mình có thể tiếp tục hay không nhưng sau đó cậu thiếu niên Casey Welson (xa0 xa0) bị bắt cóc và gọi 911 Jordan là người được kêu gọi sử dụng tất cả kinh nghiệm hiểu biết sâu sắc và suy nghĩ nhanh nhạy của mình để cố gắng giúp Casey trốn thoát và cũng để đảm bảo rằng người đàn ông bị đưa ra công lý",
         "0.42"
        ],
        [
         "8",
         "State of Siege Temple Attack 2021  Lấy cảm hứng từ những sự kiện có thật bộ phim kể lại câu chuyện anh hùng của những người lính biệt kích NSG những người đã bước vào để cứu những người vô tội khi những kẻ khủng bố tấn công một ngôi đền ở Gujarat",
         "Queen of Katwe 2016 King of Chess Queen of Katwe 2016 Phim Queen of Chess là câu chuyện cuộc đời của Phiona Mutesi từ khi không được đi học phải phụ mẹ bán ngô trên đường phố Uganda đến khi trở thành một vận động viên cờ vua vua hàng đầu thế giới",
         "0.34"
        ],
        [
         "9",
         "Tay Súng Cừ Khôi Jigen Daisuke 2023 là một phần ngoại truyện được chuyển thể từ loạt phim Lupin III Nội dung xoay quanh nhân vật Jigen người cố gắng sửa chữa khẩu súng Magnum của mình dẫn anh đến gặp người thợ súng huyền thoại đã về hưu Chiharu Yaguchi ở Nhật Bản Anh vướng vào một âm mưu liên quan đến một cô bé câm tên Oto và một đường dây tội phạm sử dụng máu trẻ em để tạo ra thuốc chống lão hóa",
         "The Fast and the Furious 2001 Quá Nhanh Quá Nguy Hiểm The Fast and the Furious 2001 Trong bộ phim Quá Nhanh Quá Nguy Hiểm Brian là một kẻ lang thang đói khát và háo hức muốn nếm thử giới hạn của tốc độ Anh ấy tự hào về kỹ năng lái xe của mình nhưng đối với các tay đua anh ấy chỉ là một người mới tập Với chiếc xe được trang bị bộ tăng tốc NOS anh đến tìm Dominic  ông hoàng tốc độ ở Los Angeles để xin tham gia vào làng đua Sau một cuộc đua liều lĩnh và bị cảnh sát truy đuổi trong phim hd này Brian đã quay lại để cứu Dominic thoát khỏi chiếc còng tay đang chuẩn bị giáng vào người anh Từ đó Brian được Dominic nhận vào đội và từ đó mối tình của Brian với Mia  em gái của Dominic bắt đầu nảy nở Trên thực tế Brian là một đặc vụ bí mật của FBI được cử đến để giải quyết vụ án Băng cướp tốc độ đang gieo rắc nỗi kinh hoàng trên khắp các tuyến đường cao tốc Nhưng bây giờ anh cảm thấy mình có mối quan hệ thân thiết với Dominic và tình cảm của anh dành cho Mia là không thể tách rời Brian buộc phải quyết định đặt lòng trung thành của mình ở đâu và tìm ra đâu là giới hạn thực sự của mình Diễn biến của phim sẽ như thế nào hãy cùng xem phim Quá Nhanh Quá Nguy Hiểm và tận hưởng những giây phút nghẹt thở với những màn đua xe tuyệt vời trong phim online này nhé",
         "0.39"
        ],
        [
         "10",
         "The Con Artists 2014  Đối với tín dụng của Choi những cảnh dẫn đến vụ trộm xung đột với một số mức độ hồi hộp đặc biệt là khi chúng ta tìm hiểu về cách Cho đã định hoán đổi tiền mặt bằng một số phiếu giảm giá vô giá trị mà anh ta đã in tại công ty âm sắc mà anh ta đã mua lại chỉ vài tháng trở lại đâyxa0Nhưng ngay cả trong những cảnh trước đó vẫn còn thiếu một thứ gì đóxa0Đối với một các ký tự dường như hầu như không được xác địnhxa0Jihyuck được miêu tả là một người cô độc có hình mẫu là người cha thân thiết và rõ ràng là khá quan tâm đến một cô gái là người phụ trách nghệ thuật nhưng những đặc điểm này không hoàn toàn tạo nên bất kỳ điều gì mạch lạc chứ chưa nói đến sự hấp dẫnxa0Ditto cho Cho người xuất thân như một nhân vật phản diện trong phim hoạt hình không có khả năng tiếp cận một đứa trẻ tầm cỡ hoặc nổi tiếng mà bộ phim muốn chúng ta tin rằng anh ta có",
         "Plan B 2019 2019 Plan B mô tả những màn tranh đấu gay gắt trong giang hồ với bối cảnh chiến trường nằm ở Nguyên Lãng Hồng Kông Bắt đầu từ một vụ án bắt cóc người yêu của trùm mafia một loạt những nội tình phức tạp dần được bóc trần các thế lực lớn từ mafia đến cảnh sát ở Hồng Kông đều bị cuốn vào gây ra hàng loạt các vụ chém giết ân oán trong giới giang hồ Cuộc đời luôn tràn ngập những bất ngờ không thể đoán trước con người luôn cố bày mưu tính kế hòng điều khiển vẫn mệnh nhưng cuối cùng đều giải quyết theo cảm tính chấp nhất vì tình",
         "0.44"
        ],
        [
         "11",
         "Love Is For Suckers 2022 Hai người bạn thân quen nhau 20 năm là chủ đề của câu chuyện Họ bắt đầu nảy sinh tình cảm với nhau khi gặp gỡ với tư cách là nhà sản xuất và diễn viên trong một chương trình hẹn hò thực tế Trong năm thứ 10 của sự nghiệp Lee Da Hee sẽ đóng vai aPD trong một chương trình tạp kỹ Park Jae Hoon là một bác sĩ phẫu thuật thẩm mỹ bị coi là thất nghiệp do lương không ổn định và anh sẽ do Choi Siwon thủ vai Anh ấy không còn quan tâm đến công việc hay tình yêu anh ấy quan tâm hơn đến những cuộc hẹn hò bình thường",
         "Titane 2021 Alexia bị chấn thương sọ não khủng khiếp và phải gắn một tấm titan vào đầuxa0Khi ra khỏi bệnh viện cô từ chối cha mẹ và ôm hôn đắm đuối chiếc xe suýt giết chết côxa0Những năm sắp tới cô có vấn đề với tình dục của mình và gặp Vincentxa0Vincent là một người đàn ông bị tra tấn cố gắng duy trì sức mạnh của mình bằng cách tiêm steroid vào cơ thể già nua của mìnhxa0Liệu họ có tìm ra cách giải quyết vấn đề tình cảm của mình",
         "0.25"
        ],
        [
         "12",
         "Delicious Love 2022 Nó chủ yếu kể về câu chuyện tình yêu giữa Shen Ying và Zheng Dao hai người rất khác nhau về tính cách và nghề nghiệp Nhưng cả hai đều có hai điểm chung là cùng sở thích và mục tiêu đó là họ muốn chia sẻ tất cả những món ngon tốt cho sức khỏe đến thế giới khi họ thu hoạch câu chuyện tình yêu của chính mình Shen Ying là một biên tập viên tạp chí ẩm thực Cô ấy là một người độc lập và chăm chỉ Cô ấy xinh đẹp và tốt bụng với người khác Trịnh Đào là giám đốc đặc biệt của tạp chí Gourmet Edition Anh ta có một tính cách lạnh lùng và kiêu ngạo Anh ấy rất nguyên tắc và đặc biệt trong mọi việc Anh ấy có những yêu cầu rất khắt khe đối với đồ ăn",
         "Phòng Sát Nhân The Kill Room 2023 được công chiếu vào ngày 28 tháng 9 năm 2023 là một bộ phim hài kịch đen kết hợp với thể loại hồi hộp do Nicol Paone đạo diễn và Jonathan Jacobson viết kịch bản Câu chuyện xoay quanh một nữ đại lý nghệ thuật kết hợp cùng một sát thủ và ông chủ của anh ta trong một kế hoạch rửa tiền Tuy nhiên kế hoạch này vô tình biến sát thủ trở thành một hiện tượng nghệ thuật avantgarde qua đêm tạo ra tình huống độc đáo khi thế giới nghệ thuật va chạm với thế giới ngầm Dàn diễn viên nổi bật của phim bao gồm Uma Thurman Joe Manganiello Maya Hawke Debi Mazar Dree Hemingway và Samuel L Jackson Bộ phim được quay tại nhiều địa điểm ở New York và New Jersey với các địa điểm quay chính bao gồm Hoboken và Jersey City",
         "0.3"
        ],
        [
         "13",
         "Breaking Bad (Season 3) 13 tập Khi Walter White (Bryan Cranston) nói với Skyler (Anna Gunn) về các giao dịch kinh doanh của ông cô đã xem các giấy tờ ly hôn mà Walt từ chối ký Thay vào đó ông tiếp tục công việc kinh doanh của mình và gia nhập lực lượng với Gus Fring (Giancarlo Esposito) làm việc trong phòng thí nghiệm siêu hạng của ông với trợ lý mới Gale Boett Rich (David Costabile) Skyler phải bảo vệ gia đình và kêu gọi Saul Goodman (Bob Odenkirk) tìm cách che giấu việc kinh doanh để đưa tiền bán ma túy của Walt về",
         "First Girl I Loved 2016 First Girl I Loved First Girl I Loved 2016 Phim First Girl I Loved kể về Anne (Gelula) với niềm đam mê nghệ thuật đem lòng yêu Sasha (Hildebrand)  một nữ ngôi sao bóng mềm Nhưng khi Anne kể câu chuyện này với người bạn thân nhất của cô là Clifton (Arias) anh ta trở nên ghen tị và tìm mọi cách để ngăn chuyện tình đồng giới của Anne và Sasha Mọi thứ đều gây tranh cãi phóng đại và Sasha  một cô gái nổi tiếng trong trường có lẽ không đủ can đảm để sống thật với cảm xúc của mình",
         "0.34"
        ],
        [
         "14",
         "New World 2021 Show lấy bối cảnh trên hòn đảo thiên đường Oedo  nơi có bãi biển đẹp cùng khung cảnh thơ mộng hài hoà Tại đây 6 người chơi sẽ đưa mình vào một giấc mơ không tưởng và tham gia trải nghiệm rất nhiều trò chơi thực tế ảo được dựng quanh hòn đảo Người chơi chiến thắng trong mỗi trò chơi sẽ được tặng tiền ảo và sau 6 ngày người chiến thắng sẽ quay về với thế giới thực và số tiền ảo này sẽ được quy đổi thành tiền mặt bên ngoàiBên cạnh những trò chơi kịch tính khán giả cũng vô cùng mong chờ những màn tương tác giữa các thành viên ",
         "Birds Without Names 2017 Những Chú Chim Không Có Tên Những Chú Chim Không Có Tên 2017 Phim Những Chú Chim Không Có Tên dựa trên tiểu thuyết cùng tên của Mahokaru Numata và do Kazuya Shiraishi đạo diễn Phim đã được trình chiếu trong phần Điện ảnh Thế giới Đương đại tại Liên hoan phim Quốc tế Toronto 2017 Towako (Yu Aoi) vẫn không thể quên được người yêu cũ Kurosaki dù họ đã chia tay 8 năm trước Towako hiện đang sống với một người đàn ông tên Jinji (Sadao Abe) Jinji hơn cô 15 tuổi Towako không thích Jinji một người thấp kém và thô tục nhưng cô ấy sống với anh ta vì tiền lương của anh ta Một ngày nọ cô gặp Mizushima một người đàn ông đã có gia đình và có con Anh làm cô nhớ đến Kurosaki Chẳng bao lâu cô ấy có quan hệ tình cảm với Mizushima Một thám tử đến thăm Towako và nói với cô ấy rằng Kurosaki đã mất tích",
         "0.28"
        ],
        [
         "15",
         "Bholaa 2023 Bhola một tù nhân cuối cùng đã được trở về nhà sau 10 năm tù đày để gặp con gái nhỏ của mình Hành trình của anh trở nên khó khăn khi anh bị bắt giữ giữa chừng Ban đầu anh không nhận ra tình hình nghiêm trọng mà anh đã tự mình đặt mình vào nhưng sau một sự cố điên rồ xảy ra anh phải đi qua một con đường đầy rào cản điên rồ với cái chết đang rình rập ở mọi góc đường Liệu anh có gặp được con gái của mình không",
         "The Shield (Season 01) 2002  Phim kể về cuộc sống và các vụ án của một tay cảnh sát biến chất tại sở Cảnh sát Los Angeles và đơn vị dưới quyền của hắn",
         "0.34"
        ],
        [
         "16",
         "Lost On Journey 2010 Lost On Journey 2010 Lost On Journey kể về hành trình về quê ăn Tết của hai nhân vật một người là cô giúp việc sữa một người là giám đốc công ty sản xuất phim hoạt hình Bộ phim với những tình tiết vô cùng hài hước được coi là một bộ phim hài kinh điển của Trung Quốc Phim cũng có những cảnh quay mô tả tình trạng quá tải của các đoàn tàu và phương tiện của Trung Quốc trong cuộc di cư hàng năm lớn nhất thế giới của quốc gia đông dân nhất thế giới Ngoài những tình huống siêu hài phim còn có những câu chuyện cảm động và những triết lý sâu sắc",
         "Dream Journey 2016 Dream Journey (2016) Phim Mộng Tây Du là một bộ phim hài hước xoay quanh câu chuyện về việc Tôn Ngộ Không giúp Đường Tăng đánh bại Bạch Cốt Tinh và sau đó là một biến cố bất ngờ khi cả hai xuyên không đến một không gian thế kỷ 21 nơi cuộc sống hiện đại đang diễn ra Ngộ Không lúc này hiện nguyên hình là Đường Tăng thành một anh chàng đẹp trai tuấn tú và ở chung nhà thuê với Bạch Cốt Tinh để tìm hiểu lý do hắn bị đưa đến đây",
         "0.42"
        ],
        [
         "17",
         "Cheer Up 2022 Do Hae Yi sáng sủa và siêng năng là sinh viên Đại học Yeonhee Vì tình hình tài chính không tốt của gia đình cô ấy ưu tiên kiếm tiền hơn là đi học Một ngày nọ Do Hae Yi bất ngờ gia nhập đội cổ vũ Teyia đã tồn tại 50 năm tại Đại học Yeonhee Cô ấy chỉ tham gia câu lạc bộ vì tiền nhưng trong khi tham gia vào đội cổ vũ Do Hae Yi bắt đầu trải nghiệm niềm vui của cuộc sống trong khuôn viên trường và gặp gỡ nhiều người khác nhau từ Teyia bao gồm Bae Young Woong người từng là thành viên của Teyia và anh ấy là cựu sinh viên của Yeonhee Univers hỗ trợ đội cổ vũ về mặt tài chính và tình cảm",
         "Water and Fire  Su ve Ates 2013 Một cô gái trẻ phải lòng một người đàn ông bí ẩn nhút nhát nhưng bị cấm nói với anh ta rằng cô đang mang thai Các cố vấn của ông đã tổ chức một đám cưới với con gái của một gia đình đối địch để chấm dứt mối thù",
         "0.18"
        ],
        [
         "18",
         "Mean Machine 2001 Prison Team Mean Machine 2001 Phim Đội tù Một người đàn ông là cầu thủ bóng đá nổi tiếng một thời nhưng sau đó anh ta mắc bệnh ngôi sao và anh ta dính vào một vụ dàn xếp tỷ số anh ta đã bị bỏ tù Tại đây anh từng bước trải qua hậu quả của căn bệnh ngôi sao bởi những trận đòn Trong trại giam này quản giáo rất mê bóng đá nên đã ra lệnh cho đội trưởng xây dựng đội bóng của các phạm nhân để đá bóng với nhau Tuy nhiên công việc không hề dễ dàng chút nào",
         "Thế Tử Biến Mất Rồi Missing Crown Prince 2024 là một bộ phim hài lãng mạn lịch sử của Hàn Quốc được phát sóng từ ngày 13 tháng 4 năm 2024 đến ngày 16 tháng 6 năm 2024 Đạo diễn Kim Jinman và biên kịch Kim Jisoo và Park Cheol đã tạo ra một câu chuyện đặc biệt trong thời đại Joseon khi hoàng tử Yi Gun do Suho thủ vai bị bắt cóc bởi Choi Myung Yoon do Hong Ye Ji đóng Sự kiện này đã khiến cả vương quốc rơi vào hỗn loạn buộc Myung Yoon và hoàng tử phải lẩn trốn dần dần phát triển mối quan hệ tình cảm giữa họ mặc dù bắt đầu mối quan hệ một cách không bình thường",
         "0.28"
        ],
        [
         "19",
         "Force 2011 xa0Bị thương nặng và nằm bất tỉnh trong bệnh viện Mumbai ACP Yashvardhan (John Abraham) của Cục Kiểm soát Ma túy phản ánh về cuộc đời và mối tình của anh với Maya (Genelia D Souza)xa0Với sự hỗ trợ của Ủy viên cũng như các đồng nghiệp của anh ta Atul (Mohnish Bahl) Kamlesh (Kamlesh Sawant) và Mahesh Pandey và một người cung cấp thông tin Arvind Shetty anh ta đã có thể bắt những kẻ buôn bán ma túy ở Kutch Gujaratxa0Jalandhar Punjab cũng như ở Himachal Pradeshxa0Vô tình anh ta mở đường cho Vasu Anna Reddy (Mukesh Rishi) trở thành tay buôn ma túy duy nhất và mời người anh em gốc Mombasa của mình Vishnu (Vidyut Jamwal) tham gia cùng mìnhxa0Một cuộc chạm trán với đội giết chết Vasu và một số người trong đội bị đình chỉxa0Một Vishnu báo thù quyết định nhắm mục tiêu vào toàn bộ đơn vị cảnh sát cũng như gia đình tương ứng của họxa0và thề rằng anh ta sẽ không nghỉ ngơi cho đến khi anh ta giết tất cả chúngxa0Anh ta bắt đầu bằng việc giết hại dã man Mahesh và vợ của anh ta Rachna và sau đó bắt cóc vợ của Atul Swati  với động cơ buộc người trước đó phải bỏ đi phần còn lại của đội cảnh sát này",
         "Settlers 2021 Những người định cư sớm nhất của loài người trên biên giới sao Hỏa làm những gì họ phải làm để tồn tại trước các yếu tố vũ trụ và lẫn nhau",
         "0.33"
        ],
        [
         "20",
         "Pandora Beneath The Paradise 2023 Để bảo vệ gia đình của mình Hong Tae Ra phải trở thành Đệ Nhất Phu Nhân Hàn Quốc Hong Tae Ra có một cuộc sống hoàn hảo với chồng yêu Pyo Jae Hyun và con gái đáng yêu của họ ngoại trừ một điều Hong Tae Ra không có ký ức về quá khứ của mình Một ngày cô nhận lại ký ức và đối mặt với quá khứ đáng sợ của mình Cuộc sống hoàn hảo của cô bị phá vỡ và cô thấy mình trong một tình huống không kiểm soát được Hong Tae Ra phải đấu tranh để trả thù những người chịu trách nhiệm về quá khứ của cô Pyo Jae Hyun là chồng của Hong Tae Ra Anh ta là một nhà phát triển cực kỳ thông minh đã phát triển công nghệ mới trong lĩnh vực dán não thông minh Anh ta điều hành công ty của mình với kỹ năng lãnh đạo nhẹ nhàng và tính cách thông minh Anh ta được ngưỡng mộ bởi những người xung quanh Những người trong giới chính trị bắt đầu nói về anh ta như là ứng cử viên tổng thống tiếp theo",
         "Duang Tah Tee Sarm 2021 Có năng khiếu nhìn thấy ma Treekarn phải vượt qua nỗi sợ hãi của những xác sống khi anh khám phá ra sự thật về tình yêu cuối cùng trong quá khứ của mình",
         "0.4"
        ],
        [
         "21",
         "Dragons of Wonderhatch Rồng của Wonderhatch 2023 là một series kết hợp giữa phim hoạt hình anime và phim liveaction được phát sóng vào ngày 20 tháng 12 năm 2023 trên Disney và Hulu hiện đã có trên PhimMoi chúng tôi Sản xuất tại Nhật Bản series này độc đáo khi kết hợp các cảnh quay thực tế với các phân đoạn anime miêu tả một thế giới song song nơi có rồng Cốt truyện tập trung vào hai nhân vật chính Nagi và Thaim Nagi được lồng tiếng bởi Sena Nakajima là một nữ sinh trung học ở thế giới thực với khả năng đặc biệt là synesthesia âm thanhmàu sắc cho phép cô nhìn thấy màu sắc khi nghe thấy âm thanh nhất định Thaim được lồng tiếng bởi Daiken Okudaira đến từ thế giới Upananta và có một khuyết điểm theo quan điểm của thế giới mình anh không thể nghe thấy tiếng của rồng Câu chuyện xoay quanh cuộc gặp gỡ của họ và mối quan hệ hình thành thách thức những ràng buộc truyền thống của cả hai thế giới Đạo diễn của series là Kentaro Hagiwara nổi tiếng với công việc trên Our 30 Minute Sessions và Tokyo Ghoul sản xuất bởi Production IG studio đằng sau Ghost in the Shell SAC2045 Phân đoạn anime được đạo diễn bởi Takashi Otsuka với thiết kế nhân vật và nghệ thuật concept bởi Posuka Demizu Series này mang đến một cách tiếp cận mới trong anime kết hợp với yếu tố thực tế và được kỳ vọng là một sự bổ sung đáng kể cho danh mục thể loại anime của Disney",
         "Nicolas On Holiday 2016 Nicolass Summer Vacation Nicolas on Holiday (2016) Phim Kỳ nghỉ hè của Nicolas Năm học đã kết thúc cậu bé Nicolas cùng gia đình đi nghỉ hè ở bãi biển Nicolas nhanh chóng kết bạn với Blaise người địa phương Fructueux người thích đủ thứ Djodjo tiếng Anh và không nói được tiếng Pháp Crepin luôn khóc và Comee luôn muốn đúng và luôn căng thẳng Đặc biệt nhất Nicolas còn quen Isabelle một cô gái luôn nhìn Nicolas với đôi mắt tròn xoe đầy lo lắng đến nỗi anh tin rằng dù sao bố mẹ cũng muốn anh cưới cô Nhóm trẻ em tụ tập và trò nghịch ngợm bắt đầu Đây sẽ là một kỳ nghỉ khó quên đối với tất cả mọi người",
         "0.38"
        ],
        [
         "22",
         "Jo Koy Live from the Los Angeles Forum 2022 Bộ phim Jo Koy Trực tiếp từ Los Angeles Forumxa0 Nó theo chân Jo khi anh kể về mối quan hệ của mình với cậu con trai tuổi teen cùng với việc chia sẻ những khó khăn khi sống chung với chứng ngưng thở khi ngủ và nhiều hơn thế nữa",
         "The Man From Macau  From Vegas To Macau 2014 The Man From Macau  Từ Vegas Đến Macau (2014) Benz cùng với con trai Cool và cháu trai NgauNgau là một nhóm anh hùng giấu mặt chuyên đi cướp của giới xã hội đen ban đêm và cho người nghèo Tuy nhiên vợ của Benz đang bị ung thư và không hề hay biết về ca phẫu thuật của họ Con riêng của Benz  Lionel  là một cảnh sát nằm trong một công ty đa quốc gia tên là DOA ngoài ra còn là một công ty cung cấp tội phạm lớn do ông trùm tàn nhẫn Ko điều hành",
         "0.33"
        ],
        [
         "23",
         "A League of Nobleman 2023 Zhang Ping là một thư sinh nghèo lang thang trên đường phố sử dụng kỹ năng kéo mì của mình để kiếm sống Bản chất anh ta là người thích can thiệp và thích tham gia vào các vụ án của chính phủ Sử dụng kỹ năng quan sát nhạy bén và tư duy vượt trội của mình anh ấy nắm bắt được những điểm độc đáo của từng vụ án Anh ấy không được người khác yêu thích do bản tính cô độc của mình Lan Jue Bộ trưởng Bộ Lễ liên tục bị lôi kéo vào cuộc xung đột chính trịcủa tòa án Sở hữu vẻ ngoài yêu kiều và lịch lãm anh ta tưởng như có một cuộc sống thuận buồm xuôi gió nhưng thực ra lại ẩn chứa một lai lịch mà nhiều người không biết Trong khi đến Thủ đô để tham dự kỳ thi quốc gia Ping vô tình bị vướng vào hoạt động bí mật của Jue Sử dụng khả năng suy luận thông minh Ping phá được vụ án phá vỡ kế hoạch của Jue Trong khi cứu sống Jue Ping phát hiện ra bí mật của Jue Kể từ đó cặp đôi mặc dù không đồng đều về địa vị và sở hữu những lý tưởng không tương đồng nhưng lại trở thành bạn thân của nhau Họ sẽ cùng nhau đối mặt với những vụ án hóc búa và những tình huống sinh tử Với những lời giới thiệu của Jue Ping biến từ một học giả nghèo thành một bộ trưởng trong Đền Dali nơi anh giải quyết các vụ án và xử lý các công việc của tòa án đồng thời tự nhận mình là một thám tử tài giỏi",
         "Guilty 2020 Cốt truyện xoay quanh một vụ án hiếp dâm được đệ trình bởi nạn nhân trong hoàn cảnh của MeTooxa0Nhưng các nhân vật được thiết kế lỏng lẻo và tôi thực sự nghĩ rằng nhân vật của Kiara đang mắc bệnh tâm thần với những vết cắt liên tiếpxa0Bằng cách nào đó họ đã làm cho nó trở nên thuyết phục ở phần cuối với một danh sách dài các cuộc đối thoại và phần kếtxa0Nhưng có rất nhiều lỗ hổng trong câu chuyện chỉ khiến nó trở nên thoải mái",
         "0.42"
        ],
        [
         "24",
         "Honey Girls 2021 Ngôi sao nhạc pop lớn Fancy G (Ashanti) tổ chức một cuộc thi để tìm ra nghệ sĩ solo lớn tiếp theo Nhưng các thí sinh trẻ tuổi nhận ra rằng họ tốt hơn với nhau và bí mật thành lập một ban nhạc tên là Honey Girls và trở thành một hit lớn được che đậy trong bí ẩn",
         "Five Minutes To Tomorrow 2014 Five Minutes Before Midnight Five Minutes To Tomorrow 2014 Bộ phim được chuyển thể từ tiểu thuyết nổi tiếng cùng tên của tác giả Takayoshi A Lương là một nghệ nhân sống một cuộc sống tương đối bình lặng Cho đến khi Nhưo Lan xuất hiện cuộc sống của anh dần thay đổi Tuy nhiên trong một lần đi nghỉ ở nước ngoài Nhuế Lan và chị gái song sinh Như Mai gặp tai nạn chỉ có một người may mắn sống sót Trở về bên A Lương là Nhuế Lan hay Như Mai Điều gì sẽ xảy ra nếu họ hoán đổi danh tính",
         "0.26"
        ],
        [
         "25",
         "Pachinko Pachinko 2022 Dựa trên cuốn sách bán chạy nhất của Thời báo New York  câu chuyện sâu sắc này ghi lại những hy vọng và ước mơ của một gia đình nhập cư Hàn Quốc qua bốn thế hệ khi họ rời quê hương trong một nhiệm vụ bất khuất để tồn tại và phát triển  Kim SunJa sinh ra và lớn lên tại Busan Hàn Quốc khi Hàn Quốc nằm dưới sự cai trị của Nhật Bản Cô đã yêu một người đàn ông tên là Koh HanSu Khi cô ấy biết rằng Koh HanSu đã kết hôn với một người phụ nữ khác cô ấy đã mang thai Cô ấy bị tàn phá bởi hoàn cảnh của mình Một linh mục nhà thờ tên là Baek Isak đã cứu cô bằng cách kết hôn với cô Cô và Baek Isak sau đó chuyển đến Nhật Bản Ở đó cô ấy sinh ra đứa con của mình Cuộc sống đối với những người Hàn Quốc sống ở Nhật Bản vào thời điểm đó không hề dễ dàng Đôi khi họ bị khinh thường và phân biệt đối xử họ phải vật lộn để tồn tạifollow on",
         "Miss Danger 2020 Phim   xoay quanh một phụ nữ trung niên gợi cảm trở thành một đặc vụ đáng yêu chống lại các tổ chức tội phạm và trả thù cho tình yêu",
         "0.37"
        ],
        [
         "26",
         "Suparburoot Jorm Jon Duang Jai Kabot 2019 Trái Tim Chàng Dũng Sĩ (Suparburoot Jorm Jon Duang Jai Kabot) kể về hành trình bảo vệ an toàn cho nàng công chúa của nước láng giềng và tình yêu giai cấp của hai người",
         "Adoring 2020 Gao Ming là một người cha đơn thân sống một mình với một con mèo sau khi bị vợ và con gái ghẻ lạnh anh ta cố gắng kết nối với con mèo sau khi cô ấy trở về để đi nghỉChen Leyun là một học sinh bị mù sau một trận ốm và người bạn cùng lớp của anh là Jiang Nan đã cố gắng giúp đỡ anh bằng cách huấn luyện thú cưng của mình thành chú chó dẫn đường cho anhLi Xiang cố gắng giấu chú lợn cưng của mình với bạn gái Qu Feifei nhưng vô ích khi cô chuyển đến căn hộ của anhxa0Zhao Le và Fang Xin là một cặp vợ chồng mới cưới người đã thấy nỗ lực của họ để viên mãn cuộc hôn nhân của họ bị cản trở liên tục bởi con chó cưng của cô ấy",
         "0.24"
        ],
        [
         "27",
         "Jumanji 1995 Trò Chơi Bí Ẩn Jumanji 1995 Jumanji là một bộ phim thiếu nhi giàu tính thần thoại và phiêu lưu bộ phim là câu chuyện về một bộ cờ phép thuật có sức mạnh giải phóng những hồn ma nguy hiểm và chỉ có thể bị dừng lại bằng cách kết thúc trò chơi Với sự tham gia của diễn viên hài Robin William cộng với cốt truyện phiêu lưu giả tưởng đầy màu sắc và hấp dẫn nhất bộ phim đã mang đến một cuộc phiêu lưu đầy biến động và vô cùng khó quên Jumaji là một bộ phim đầy hương vị hài hòa giữa lãng mạn phiêu lưu hành động và viễn tưởng chắc chắn sẽ làm say lòng cả khán giả người lớn và trẻ em từ đầu đến cuối",
         "Lucid Dream 2016 Lucid Dream 2016 Drama Dae Ho (do Go Soo thủ vai) là một phóng viên gặp rắc rối pháp lý đang cố gắng dành thời gian cho gia đình Sau đó vào một ngày tại một công viên giải trí Dae Ho đánh mất một thứ rất quý giá và anh bị ám ảnh bởi những cơn ác mộng ngày càng trở nên tồi tệ hơn Cho đến khi anh tìm hiểu về nhà thần kinh học So Hyeon (Kang Hye Jeong) người đang muốn hiểu rõ hơn về sức mạnh của Lucid Dream để tái tạo lại chi tiết hơn những bí ẩn của tiềm thức Dae Ho muốn đi vào giấc mơ để giải quyết cơn ác mộng thực tại hàng ngày của mình Chúng ta có thể cảm nhận được sự căng thẳng này trong tất cả các chuỗi giấc mơ Luôn có lý khi Dae Ho cảm thấy không còn bị kiểm soát ở đó như trong thế giới thực Vì vậy Dae Ho muốn thoát khỏi những giấc mơ xấu bao nhiêu cũng muốn thoát khỏi thực tại bấy nhiêu Ở cả hai địa điểm cảm giác về bản thân là không thể chịu đựng được Sự tương phản được đánh dấu bởi Yong Hyeon (do Park Yoo Chun thủ vai) một người đàn ông bí ẩn của thế giới giấc mơ dường như có tất cả câu trả lời nhưng sức mạnh của Yong Hyeon rất huyền ảo Anh ta là chủ nhân của thế giới giấc mơ chính xác là vì anh ta không có sức mạnh thực sự Thực sự thì Yong Hyeon rất tuyệt vời hơn cả những gì Dae Ho mong đợi nhưng anh ấy không muốn trở thành Yong Hyeon vì anh ấy có một cuộc sống hạnh phúc thực sự",
         "0.31"
        ],
        [
         "28",
         "Dying of the Light 2014 Dying of the Light (2014) Cựu nhân viên CIA Evan Lake đã được lệnh nghỉ hưu Nhưng khi người bảo vệ của anh ta phát hiện ra bằng chứng về kẻ thù của Evan Lake những kẻ khủng bố Banir lại xuất hiện Evan Lake đã bắt tay vào một nhiệm vụ xuyên lục địa nguy hiểm để loại bỏ kẻ thù không đội trời chung của mình",
         "Hard Soap Hard Soap 1977 Penny và Linda là hai bà nội trợ hạnh phúc luôn muốn giải quyết vấn đề cá nhân của người khác Nhưng Penny lại có những vấn đề lớn của riêng mình đó là với người chồng bác sĩ tâm thần của cô bác sĩ John Holmes người có khả năng lãng mạn bị cản trở đến mức không thể chịu nổi Khi Penny và Linda thấy mình bị bao vây bởi vô số những kẻ biến thái lập dị và những loại người không phù hợp khác họ quyết định đã đến lúc phải tự mình giải quyết vấn đề để quay trở lại",
         "0.18"
        ],
        [
         "29",
         "The Man with Thousand Faces 2016 Spy The Man with Thousand Faces 2016 Movie Spy là câu chuyện về một người đàn ông đã lừa dối cả một đất nước Một câu chuyện về gian lận và lừa đảo lấy cảm hứng từ sự thật và từ một trong những nhân vật hấp dẫn nhất trong những thập kỷ gần đây điệp viên Francisco Paesa",
         "Classmates Minus 2020 Bốn người bạn trung học  một giám đốc một nhân viên tạm thời một nhân viên bán bảo hiểm và một thợ thủ công giấy  vật lộn với những ước mơ chưa thành trong bối cảnh tuổi trung niên chán nản",
         "0.18"
        ],
        [
         "30",
         "Wake Up Girls 2014u200f Thức dậy thức dậy các cô gái 2014 Anime mới sẽ có sự góp mặt của các thành viên cũ của nhóm nhạc Wake Up Girls cùng với các nhân vật mới Trong cốt truyện gốc Green Leaves Entertainment là một công ty nhỏ đang trên bờ vực phá sản ở Sendai thành phố lớn nhất ở vùng đông nam Tohoku Công ty này từng làm quản lý cho các ảo thuật gia ảnh thần tượng thầy bói và các loại hình giải trí khác nhưng cuối cùng khách hàng đã nói lời chia tay với nơi này Trước nguy cơ về sự kém cỏi của mình chủ tịch Tange đã ấp ủ ý tưởng thành lập một tập đoàn dol và lệnh cho quản lý Matsuda tìm kiếm những người tài năng  những viên ngọc thô  cho dự án này  từ đó bắt đầu cuộc gặp gỡ định mệnh giữa Matsuda và một cô gái",
         "Devious Maids Season 4 2016 Những Cô Hầu Gái Kiều Mỹ 4xa0Devious Maids Season 4 (2016) Phim Những Cô Hầu Gái Kiều Mỹ 4xa0Devious Maids là sản phẩm được chính tay Marc Cherry  cha đẻ của Series ăn khách bậc nhất truyền hình Mỹ Desperate Housewives cùng cô đào bốc lửa Eva Longoria nhào nặn cùng với sự tham gia của 5 diễn viên nữ chính gốc Latinh xinh đẹp Ana Ortiz  Dania Ramirez  Roselyn Sanchez  Edy Ganem và Judy Reyes Bộ phim xoay quanh cuộc sống đầy hỷ nộ ái ố xung quanh cuộc sống của 5 người bạn cùng là người giúp việc Devious Maids đã thành công khi áp dụng lại mô tuýp quen thuộc của Desperate Housewives nhưng thay đổi theo chiều hướng tích cực hơn đó là sự pha trộn giữa hài hước và trinh thám ",
         "0.43"
        ],
        [
         "31",
         "Biệt Đội Săn Rồng Slyth The Hunt Saga 2024 kể về một thế giới đứng trên bờ vực sụp đổ sau một đám cháy rừng kinh hoàng khiến bầu không khí đầy rẫy chất ô nhiễm và xã hội chìm trong bệnh tật Hy vọng duy nhất cho nhân loại nằm ở huyền thoại về loài Slyth một chủng loại bò sát có khả năng ngụy trang thành người và sở hữu dòng máu có khả năng chữa bệnhu200bu200b Cốt truyện xoay quanh Nam một chàng trai bí ẩn mất trí nhớ sau khi bị một chiếc van tông trúng Cùng với Sea và nhóm bạn của cô họ dần phát hiện ra rằng Nam không chỉ có khả năng chữa lành vết thương một cách thần kỳ mà còn sở hữu sức mạnh vượt trội so với con người bình thường Sea bắt đầu nghi ngờ Nam có thể không phải là con người và có thể là một Slyth mở ra hy vọng cho việc chữa lành bệnh tật và thậm chí là sự bất tử Khi tin tức về sự xuất hiện của Slyth lan truyền Nam trở thành mục tiêu của cuộc săn lùng đẩy cả anh và Sea vào một cuộc chiến sinh tồn đầy nguy hiểm",
         "Mashle Magic and Muscles 2023 Bộ phim hoạt hình của Nhật Bản phát sóng 2023 này kể về câu chuyện Trong thế giới phép thuật Đối với những người khác trong thế giới thống trị bởi ma thuật của mình Mash Burnedead trẻ tuổi và bất lực là mối đe dọa đối với nguồn gen và phải bị thanh trừng Sống bí mật trong rừng anh dành hàng ngày để rèn luyện cơ thể xây dựng cơ bắp đủ mạnh để cạnh tranh với chính ma thuật Tuy nhiên khi danh tính bị bại lộ và cuộc sống yên bình của anh bị đe dọa Mash bắt đầu hành trình trở thành Người có tầm nhìn thần thánh một vai trò quyền lực đến mức xã hội sẽ không còn lựa chọn nào khác ngoài việc chấp nhận sự tồn tại của anh Và vì vậy để duy trì cuộc sống yên bình của mình Mash không có phép thuật đăng ký vào Học viện Phép thuật Easton danh tiếng cạnh tranh với con cái của một số người quyền lực và ưu tú nhất trong vương quốc Thiếu kỹ năng cần thiết để tồn tại ở Easton phép thuật Mash dường như đã gặp bất lợi đối với các bạn cùng lớp của mình Để đạt được mục tiêu của mình Mash sẽ phải chiến đấu vượt qua mọi thử thách chỉ bằng nắm đấm của mình vượt qua ma thuật bằng cơ bắp tất cả vì danh hiệu Người nhìn xa trông rộng",
         "0.47"
        ],
        [
         "32",
         "Anything for Jackson 2020 Một cặp vợ chồng theo chủ nghĩa Satanist bắt cóc một phụ nữ đang mang thai để họ có thể sử dụng một cuốn sách thần chú cổ xưa nhằm đưa linh hồn của đứa cháu trai đã chết của họ vào đứa con chưa chào đời của cô ấy nhưng cuối cùng lại triệu hồi được nhiều thứ hơn những gì họ mong đợi",
         "The Best of Youth  La meglio gioventù 2003 Bộ phim gồm rất nhiều cuộc đời rất nhiều sự kiện nhưng chủ yếu xoay quanh hai anh em nhà Caratis bắt đầu từ mùa hè năm 1966 khi họ chuẩn bị tốt nghiệp đại học Người anh Matteo (Alessio Boni) nóng tính bốc đồng và khó gần trượt kỳ tốt nghiệp nhưng giấu tất cả mọi người Kể cả bố mẹ chị gái em trai Nicole và một em gái bé bỏng Trong khi chờ đợi anh nhận một công việc tình nguyện đưa những bệnh nhân tâm thần đi dạo Ở đó Matteo gặp gỡ một cô gái trẻ xinh đẹp Giorgia (Jasmine Trinca) Sau khi phát hiện Giorgia bị điều trị bằng cách sốc điện anh quyết định cứu cô khỏi bệnh viện và tìm cách đưa Giorgia về nhà cha đẻ Việc này cần đến sự giúp đỡ của em trai Nicola (Luigi Lo Cascio) người đã có bằng Bác sĩ trong tay The Best of Young lấy tựa từ một ý thơ của nhà thơđạo diễn Pier Paolo Pasolini một biểu tượng văn hóa nước Ý bị sát hại vào năm 1975 Đạo diễn Giordana từng làm phim về ông trước đây và muốn tưởng nhớ đến ông Đây là một phim cực kỳ tham vọng của Giordana khi ông muốn lồng ghép vào câu chuyện gia đình với lịch sử phát triển nước Ý trong một giai đoạn dài Nhưng không chỉ là các sự kiện như trận lụt Arno sự xuất hiện và hoạt động của nhóm bạo động Red Brigade (Lữ Đoàn Đỏ) cái chết của thẩm phán Givani Falcon mà còn mang đến cái nhìn về tình hình chính trị kinh tế văn hóa ở những khía cạnh chân thực và nhức nhối nhất từ góc quan sát của người trong cuộc Một bức tranh vừa mang tính toàn cảnh vừa mang tính chi tiết và cực kỳ đáng ngạc nhiên ông làm được điều này Bức tranh ấy được cấu thành bởi những chi tiết tưởng như vụn vặt nhưng lại có được đầy đủ màu sắc và đầy sức tác động đến nhận thức người xem Đạo diễn Giordana đã giữ được sự liền mạch trong suốt 6 giờ thời lượng tạo sự phá cách trong phong cách làm phim Nhiều người sẽ nghĩ bộ phim không khác gì những tập phim truyền hình ngắn ghép lại (và đó cũng là ý địnnh thực hiện ban đầu) nhưng không hề Bộ phim mang đậm hơi thở điện ảnh từ đầu đến cuối thời lượng không có ý nghĩa gì hơn là một con số sẽ bị quên lãng ngay khi người xem thật sự đắm chìm vào The Best of Young không phải chỉ là một trải nghiệm mà là một hành trình trong giấc mơ điện ảnh này Hành trình một đời người trong 6 giờ đồng hồ vẫn còn là quá ngắn ngủi Nhưng trọn vẹn Trọn vẹn đến từng giây Được trở thành họ được khóc và cười với họ được trải qua cuộc đời họ tôi đếm từng giây phút được ở trong bộ phim và tiếc nuối và không hề muốn phim đi đến đoạn kết",
         "0.37"
        ],
        [
         "33",
         "Iron Sky 2012 Adler nói rằng cuộc xâm lược của Đức Quốc xã trên Mặt trăng trên Trái đất bắt đầu lúc 545 sáng giống hệt như cuộc xâm lược của Đức vào Ba Lan gây ra Thế chiến thứ hai Trong IRON SKY nhiều thứ đã thay đổi kể từ khi Đế chế bùng nổ trên hành tinh của chúng ta bao gồm một phi hành gia người Mỹ gốc Phi một nữ Tổng thống Hoa Kỳ và Liên Hợp Quốc chuyển thành Liên minh Thế giớixa0Fuhrer sẽ kinh hoàngxa0Khi một nhiệm vụ của Đức Quốc xã đến Trái đất đưa họ đến thành phố New York niềm vui thực sự bắt đầu",
         "The End of the World 2014 Ngày Tận Thếxa0The End of the World 2014 Phim Ngày Tận Thế kể về nhân vật Yoon Je Moon Jang Kyung Ah và Jang Hyun Jung đóng chính trong phim nói về một nhóm bác sĩ cố gắng tìm cách chữa trị một căn bệnh bí hiểm đang làm hàng ngàn người chết",
         "0.34"
        ],
        [
         "34",
         "Shadow Detective 2022 Kim Taek Rok là một thám tử kỳ cựu tại Sở cảnh sát Geumo người đang chờ nghỉ hưu Một ngày nọ anh bắt đầu nhận được điện thoại của một người tự xưng là bạn cũ Người gọi nói với anh ta rằng anh ta đã giết đồng nghiệp của Kim Taek Rok là Woo Hyun Seok đề nghị xem xét lại quá khứ của Kim Taek Rok để tìm ra những điều anh ta đã làm sai Ban đầu Đội trưởng Đội điều tra của Taek Rok Kook Jin Han người mới chuyển đến Sở cảnh sát Geumo nghi ngờ Kim Taek Rok là kẻ sát hại trong cái chết của Woo Hyun Seok nhưng anh bắt đầu tin tưởng Kim Taek Rok và sự vô tội của anh ấy Họ bắt đầu tìm kiếm người gọi bí ẩn của Kim Taek Rok với sự giúp đỡ của hai thám tử Lee Sung A và Son Kyung Chan",
         "Rookie Historian Goo Hae Ryung 2019 Đài MBC mới tiết lộ những hình ảnh đầu tiên của bộ phim cổ trang Nhà sử học Goo Hae Ryung về hai nhân vật chính do Cha Eun Woo và Shin Se Kyung thủ vai Cặp diễn viên đẹp lung linh chắc chắn sẽ khiến cho fan phim Hàn đứng ngồi không yên Nhà sử học Goo Hae Ryung là một bộ phim lịch sử giả tưởng lấy bối cảnh triều đại Joseon vào thế kỷ 19 kể về câu chuyện của những người phụ nữ ghi chép lại lịch sử Bộ phim sẽ chiến đấu chống lại định kiến lỗi thời trên cơ sở giới tính và địa vị xã hội và cho thấy giá trị của sự thay đổi Shin Se Kyung sẽ vào vai Goo Hae Ryung một nhà sử học thực tập dũng cảm sáng dạ Cô thách thức và cuối cùng lên kế hoạch lật đổ các giá trị của xã hội ASTRO Cha Eun Woo sẽ đảm nhận vai Hoàng tử cô đơn Yi Rim chưa từng hẹn hò với ai Mặc dù đứng thứ hai trên ngai vàng và là một tiểu thuyết gia lãng mạn nổi tiếng nhưng hoàng tử sống biệt lập với phần còn lại của thế giới Nhà sử học Goo Hae Ryung dự kiến sẽ lên sóng vào lúc 9 giờ tối thứ haiba hàng tuần trong tháng 7",
         "0.29"
        ],
        [
         "35",
         "Macross Frontier The Movie Sayonara No Tsubasa 2011 Chán nản với việc Sheryl bị bắt giữ Alto ngôi sao đang lên Ranka và nhiều thành viên khác trong đội quân của Frontier đã hợp tác để tiêu diệt cô ấy và loại bỏ mối đe dọa Vajra vẫn còn hiện hữu Thật không may cơ thể của Grace được Leon mang về nghĩ rằng anh ta vẫn có ích cho cô Xem xét viên đạn mà tay sai Brera Sterne của cô ấy đã găm vào đầu Leon có thể nói rằng nó không diễn ra tốt đẹp Ngoài ra nếu có bất cứ thứ gì được tái chế từ chương trình trong bộ phim này thì đó sẽ là các bên còn lại trong cuộc đối đầu cuối cùng vì có bốn bên trong trận chiến trí tuệ và chinh phục hoành tráng này Nàng tiên vũ trụ Sheryl Nome cùng với Ranka Lee Alto Saotome và hơn 10 triệu công dân du hành vũ trụ bằng hạm đội Macross Frontier nhằm tìm kiếm hành tinh mới Những mối đe dọa từ Vajra tộc ngoài hành tinh giống côn trùng đã đẩy hạm đội Macross Frontier vào nguy hiểm Liệu Alto và Ranka sẽ đạt được ước mơ của họ trong khi cuộc chiến giữa Macross Frontier và Vajra đang ngày càng gần hơn",
         "Swords of Legends 2 2018 Cô Kiếm Kỳ Đàm 2 Swords of Legends 2 2018 Phim Cô Kiếm Kỳ Đàm 2 Nhạc Võ Di một chàng trai tốt bụng lên đường tìm hiểu và học võ Trên đường đi anh gặp Văn Nhân Vũ  một cô gái dũng cảm trung thành của Bách Thảo Cốc cùng với Hà Dĩ Tắc  đệ tử của Thái Hoa Quân và cũng là kẻ nửa người nửa yêu Họ lên đường đi tìm sư phụ Tà Y đồng thời gặp được nữ thần A Nguyên Họ cùng nhau chiến đấu chống lại người của Liu Yuecheng Điều kiện sống của Lưu Nguyệt Thành không tốt vì vậy Cao Tăng Thẩm Dạ quyết định hợp tác với Tam Ma để hãm hại chúng sinh đổi lại là đưa tộc Liễm Sơn xuống hạ giới",
         "0.26"
        ],
        [
         "36",
         "Never Say Die 2017 Never Say Die 2017 Oan Gia Đổi Đời là câu chuyện của một chàng  một võ sĩ bại trận nàng  một nữ phóng viên nổi tiếng Hai gia đình oan gia không ưa nhau đã vô tình hoán đổi linh hồn sau một tai nạn trớ trêu Kể từ đó biết bao chuyện buồn cười xảy đến với họ Nhưng nhờ sự mâu thuẫn này mà những bí mật dưới sàn đấu quyền anh từ từ được hé lộ",
         "One For The Road 2021 Boss một chủ câu lạc bộ cao cấp sống ở New York người nhận được cuộc gọi từ người bạn của mình ở Thái Lan Aood tiết lộ rằng anh ta đang trong giai đoạn cuối của căn bệnh ung thư giai đoạn cuối",
         "0.24"
        ],
        [
         "37",
         "The Wilde Wedding 2017 Bộ phim kể về câu chuyện của một nữ diễn viên dày dạn kinh nghiệm người đang tái hôn với một người đàn ôngxa0Gia đình họ và vợ  chồng cũ đều hội tụ để tổ chức sự kiện cưới vào cuối tuần nhưng mọi việc không diễn ra như dự kiến",
         "Ancient Love Poetry 2021u200f Gu Jue Zhuan theo chân Shang Gu từng là thủ lĩnh của bốn vị thần bất tử chìm vào giấc ngủ sâu sau khi hy sinh bản thân trong một thử thách kéo dài 60000 năm Shang Gu tỉnh dậy nhiều năm sau đó và ký ức về những gì đã xảy ra 300 năm trước bị xóa sạch hoàn toàn Nhưng người tình cũ của cô Bai Jue không bao giờ quên cô Hi sinh hóa thân cho cuộc đời cô anh đã đợi cô suốt 60000 năm Ngay cả khi linh hồn của anh ấy biến mất Shang Gu sẽ đợi anh ấy mãi mãi Gu Jue Zhuan trước đây được gọi là Shang Gu được công bố lần đầu vào năm 2014 nhưng bị mắc kẹt trong địa ngục sản xuất Nó dựa trên tiểu thuyết xianxia cùng tên của Xing Ling () xuất bản lần đầu vào năm 2012   dự kiến u200bu200bsẽ phát hành vào năm 2021",
         "0.23"
        ],
        [
         "38",
         "DrStone Season 3 2023 Bộ phim này của Nhật Bản ra Phần 3 của Dr Stonexa0sẽ được phát hành vào ngày 13 tháng 4 năm 2023 Tập đầu tiên của phần tiếp theo đã khiến người hâm mộ mê mẩn với sự trở lại của Senku và những người bạn của anh ấy những người đã đến Làng Ishigami trong phát minh mới của họ chiếc xe đẩy nóng bóng bayxa0Tập trước cũng đã chứng kiến u200bu200bmột sự giao thoa không chính thức và ngoài dự kiến u200bu200bgiữa anime và Minecraft đã thổi phồng sự hâm mộ của cả hai vũ trụ",
         "Story of Yanxi Palace 2018 Diên Hy Công Lược lấy bối cảnh những năm đầu thời đại Càn Long thiếu nữ Ngụy Anh Lạc (Ngô Cẩn Ngôn) vào cung làm cung nữ để điều tra chân tướng về cái chết của người chị gái và thề giành lại công lý cho chị mình Phú Sát hoàng hậu (Tần Lam) là người hiền đức tuân theo lễ pháp lo lắng Anh Lạc lầm đường lạc lối vì vậy luôn tận lực trợ giúp và quan tâm cô Trong phim Diễn Hy Công Lược dưới sự dạy bảo của hoàng hậu Ngụy Anh Lạc từng bước trưởng thành và trở thành một nữ quan chính trực kiên cường bỏ lại lòng oán hận để sống một cuộc sống đúng đắn Sau đó hoàng hậu bất hạnh qua đời khiến Ngụy Anh Lạc đối với Càn Long (Nhiếp Viễn) hiểu lầm chồng chất hai người từ căm ghét lẫn nhau cuối cùng dần thấu hiểu và giúp đỡ đối phương Anh Lạc bằng sự dũng cảm trí thông minh linh hoạt ý chí rộng lớn đã hóa giải những khó khăn trùng điệp chốn cung đình cuối cùng trở thành Hoàng Quý phi giúp đỡ hoàng đế Càn Long xây dựng thời thái bình thịnh thế",
         "0.26"
        ],
        [
         "39",
         "Eulachacha Waikiki 2018 Three Sassy Guys Eulachacha Waikiki (2018) Phim Three Sassy Guys là câu chuyện về cuộc đời của ba người đàn ông có cùng ước mơ được làm việc trong lĩnh vực nghệ thuật Kang Dong Goo (Kim Jung Hyun thủ vai) là chàng trai có ước mơ trở thành đạo diễn phim anh từng là một đạo diễn trẻ triển vọng từng đoạt giải tại các liên hoan phim ngắn nhưng trong giới điện ảnh rất nghiêm khắc bản lĩnh tài năng vẫn không thể so với may mắn Cheon Joon Ki (do Lee Yi Kyung thủ vai) là người gây ra nhiều rắc rối nhất trong bộ phim nhưng anh ấy cũng cực kỳ đáng yêu Cha của anh ấy là một diễn viên hạng A và vì vậy anh ấy mơ ước trở thành một diễn viên giống như cha mình Bản thân anh tham gia nhiều phim nhưng chỉ có những vai diễn nhỏ không mấy ấn tượng bởi thực tế để đứng trên vị trí của một ngôi sao nổi tiếng là điều không dễ dàng Chúc các bạn xem phim vui vẻ",
         "Shoujo No Miru Yumeu200b 2016 Dream Girl Shoujo No Miru Yume (2016) Nữ sinh 17 tuổi Kurosaki Sara (Hoshino Minami thủ vai) bị tai nạn giao thông khi tỉnh dậy cô đã gặp một cô gái người còn lại là Hidaka Nanami (do Saito Asuka thủ vai) và được cô gái này giới thiệu xung quanh bệnh viện Đêm đó Sara phát hiện ra Nanami không phải là một cô gái bình thường mà là một linh hồn đã thoát ra khỏi cơ thể đã hôn mê 10 năm trước Sara cũng nhận ra rằng mình cũng đang ở trong hoàn cảnh tương tự như thế Trong khi chờ thi thể hồi phục để có thể trở về hai cô gái kết bạn với nhau và kể cho nhau nghe những điều họ mong ước Chúc các bạn xem phim vui vẻ",
         "0.32"
        ],
        [
         "40",
         "The Last Mercenary 2021 Một cựu nhân viên mật vụ bí ẩn phải khẩn cấp trở về Pháp khi đứa con trai ghẻ lạnh của ông bị chính phủ buộc tội buôn bán vũ khí và ma túy sau một sai lầm của một quan chức quá khích và một hoạt động mafia",
         "Ditto 2022 Kim Yong và Monee đang học cùng trường đại học nhưng sống ở các mốc thời gian khác nhau Kim Yong ở năm 1999 và Monee ở năm 2022 Cả hai đều có đài phát thanh của riêng mình Cặp đôi đã có thể liên lạc qua radio trong các lần nguyệt thực toàn phần năm 1999 và 2022 Họ bắt đầu kể về những câu chuyện tình yêu và tình bạn của mình Đón xem bộ phim này ngay trên phimmoi bạn nha",
         "0.23"
        ],
        [
         "41",
         "Mob Psycho 100 2016 Mob Psycho 100 (2016) Mob Psycho 100xa0Kageyama Shigeo (aka Mob) là một học sinh lớp 8 có khả năng tâm linh Cậu ta có thể bẻ cong thìa hoặc nhấc đồ vật từ khi còn nhỏ Nhưng cậu bắt đầu hạn chế sử dụng khả năng của mình vì sợ mọi người chú ý Bây giờ điều duy nhất cậu muốn làm là làm bạn với một cô gái trong lớp Tsubomi Với người cố vấn tâm linh của mình là một nhà ngoại cảmfake cậu tiếp tục cuộc sống hàng ngày của mình và từ từ nhận ra mục đích sống của bản thân mình",
         "Night Shift 2020 Ba sĩ quan được giao nhiệm vụ hộ tống một người nhập cư bất hợp pháp đến sân bay Charles de Gaulle nơi anh ta sẽ bị ép lên máy bay và đưa về quê hươngxa0Nhưng khi biết được sự thật họ phải đưa ra một lựa chọn khó khăn",
         "0.22"
        ],
        [
         "42",
         "Kamen Rider Build NEW WORLD Kamen Rider CrossZ 2019 Kamen Raidâ Birudo New World Kamen Raidâ Kurôzu (2019) Khi anh trai của Evolto Killbus xuất hiện ở Thế giới mới để lấy lại Hộp Pandora và phá hủy vũ trụ Ryuga và Evolto đã thành lập một liên minh VCinema Build New World  Kamen Rider CrossZ sẽ xuất hiện thêm 2 nhân vật mới đó làYui Mabuchi một người phụ nữ có tầm quan trọng với quá khứ bi kịch được đóng bởi cựu thành viên AKB48 Mariya Nagao Và ngoài ra phản diện của phim là Kilbus đóng bởi Gaku Shindo(vốn từng đóng Barizorg trong Gokaiger)Kilbus giả mạo Satoshi Kakizaki một vũ công nỗi tiếng trong phim",
         "The Running Man 2013 Running Man (2013) Jongwoo một ông bố trẻ phải làm việc rất vất vả cả ngày lẫn đêm để nuôi con Jongwoo làm việc cho một ga ra vào ban ngày và làm việc vào ban đêm tài xế taxi Jongwoo làm việc chăm chỉ với ước mơ nhỏ nhoi là có thể mua một căn hộ nhỏ cho cuộc sống của anh và con trai Cuộc sống của anh đang diễn ra bình thường thì đột nhiên trong một đêm anh trở thành mục tiêu săn đuổi của cảnh sát khi họ xác định anh là kẻ giết người hàng loạt Bằng chứng của vụ việc là họ đã tìm thấy một xác chết trong xe taxi của Jongwoo Trước tình cảnh đó Jongwoo phải bỏ chạy để tìm cách minh oan cho mình",
         "0.42"
        ],
        [
         "43",
         "Mystery Magic Figure 2022 Tại cuộc họp tưởng nhớ Jinmen hàng năm chú hề đã sử dụng phép thuật để đánh cắp chiếc áo choàng lụa vàngBa gia đình phép thuật lớn ở Jinmen Fushou Tangmen người giỏi tốc độ và đánh lừa thị giác gia đình Shui Jing Qi người giỏi giải mã các loại ảo ảnh và hậu duệ của ba gia tộc lớn đã hợp sức tung ra một loạt cuộc rượt đuổi chú hề làm sáng tỏ bí mật về chiếc áo lụa vàng và tìm ra cuốn sách lừa bịp Yunjilu",
         "Khánh Dư Niên (Bản Đặc Biệt) Joy of Life Special Edition 2024 Cuộc sống của Trương Khánh một sinh viên đang theo học chuyên ngành lịch sử văn học ở đại học hoàn toàn thay đổi khi việc trình bày quan điểm hiện đại trong luận văn lịch sử văn học cổ đại của anh không được giáo sư Diệp công nhận Để được giáo sư Diệp trở thành người hướng dẫn nghiên cứu sinh Trương Khánh quyết định sử dụng viết tiểu thuyết để chi tiết hóa những quan điểm mà anh muốn truyền đạt Tiểu thuyết của Trương Khánh kể về cuộc đời chàng trai trẻ Phạm Nhàn người có một lai lịch bí ẩn và đã sống cùng bà nội từ khi còn nhỏ ở tòa thành nhỏ tại Đạm Châu một vùng ven biển Sự yên bình của cuộc sống của Phạm Nhàn bị thay đổi bởi sự xuất hiện bất ngờ của một người thầy khiến anh phải đối mặt với nhiều khó khăn và thử thách cam go Với sự hướng dẫn của người thầy bí ẩn và người bảo vệ mắt bịt Phạm Nhàn được trang bị kiến thức về dược tính dược lý tu luyện chân khí và võ nghệ bá đạo Từ đó anh liên tục vượt qua những cạm bẫy nguy hiểm Với sự tò mò về nguồn gốc bí ẩn của mình Phạm Nhàn rời bỏ Đạm Châu và tiến vào kinh thành Trên hành trình của mình Phạm Nhàn trải qua những trái ngang và vượt qua nhiều thử thách từ gia đình giang hồ cho đến triều đình Dù bị thấm thía tình người ở kinh thành Phạm Nhàn không bỏ cuộc và luôn kiên quyết bảo vệ chính nghĩa và sự thiện lương Qua những thử thách và quá trình tự rèn luyện chàng trai này viết nên một trang sử huyền thoại về cuộc đời tráng lệ của mình",
         "0.26"
        ],
        [
         "44",
         "Kickboxers Tears 1992 Một võ sĩ quyền anh bị giết trên võ đài bởi một đối thủ bẩn thỉu làm việc cho một tổ chứcxa0Em gái của võ sĩ kickboxer đã chết thề sẽ trả thù bằng cách đối đầu với cả kickboxer bẩn thỉu và tổ chức tội phạm",
         "Shanghai 2010 Đây là một bộ phim hấp dẫn về nhiều mặt đặc biệt là vì nó đã phần nào làm sáng tỏ thành công một thời kỳ đặc biệt đen tối trong lịch sử đầy màu sắc của Thượng Hảixa0Tuy nhiên Shanghai thường xuất hiện như một sự pha trộn lộn xộn của các phim khác  Casablanca và The Third Man đều là mùa xuân khá dễ dàng để tâm trí  trong khi cung cấp rất ít điểm riêng trong cốt truyện gốc hoặc bất kỳ nhân vật hấp dẫn nào vòng cung Một người đàn ông Mỹ trở lại Thượng Hải tham nhũng bị Nhật Bản chiếm đóng bốn tháng trước trận Trân Châu Cảng và phát hiện ra bạn mình đã bị giếtxa0Trong khi làm sáng tỏ những bí ẩn về cái chết anh ấy đã yêu và phát hiện ra một bí mật lớn hơn nhiều",
         "0.34"
        ],
        [
         "45",
         "Barbie Spy Squad 2016 Spy Squad Barbie Spy Squad 2016 Barbie và những người bạn của cô (Teresa và Renee) từ huấn luyện viên thể dục đến đặc vụ dựa trên kỹ năng thể thao của mình họ nhanh chóng lọt vào mắt xanh của các đại lý tốt nhất Họ có nhiệm vụ truy tìm một tên trộm đã đánh cắp một viên ngọc",
         "Dark Water 2005 Không lâu sau khi họ dọn đến trần phòng ngủ bắt đầu rỉ nước sẫm màu Dahlia thấy căn hộ ở trên ngập nước từ mọi vòi nước Cô tìm thấy một bức chân dung gia đình của những người thuê nhà trước đây gia đình Rimsky một người mẹ người cha và một cô gái trạc tuổi Cecilia",
         "0.19"
        ],
        [
         "46",
         "Intimate Enemies 2015 Sau một vụ tai nạn một người đàn ông và một phụ nữ đã tìm thấy một túi lớn đầy tiền và quyết định giữ nó Nhưng những kẻ cướp tiền đã mất tiền là sau khi họ",
         "Star Trek IV The Voyage Home 1986 Để cứu Trái đất khỏi tàu thăm dò của người ngoài hành tinh Đô đốc James T Kirk và phi hành đoàn chạy trốn của ông quay ngược thời gian tới San Francisco vào năm 1986 để tìm kiếm sinh vật duy nhất có thể giao tiếp với nó cá voi lưng gù",
         "0.32"
        ],
        [
         "47",
         "Happy Hotel 2012 Chúc mừng Tùng Trọc Khách sạn hạnh phúc 2012 Cô gái tài sắc vẹn toàn trong giới kinh doanh Mạnh Kính Hoa (Ninh Tịnh đóng) sau khi kết hôn chưa từng có con nên đã âm thầm liên hệ với một bác sĩ Hàn Quốc để đến khách sạn Lạc Thiên xử lý Anh chàng Kim Tae Soon (do Jeong Kyung Ho đóng) đến đòi nợ và bị Hy Ca (Diêu Luân đóng) đưa vào một căn phòng nhìn ra biển hiểu lầm Kính Hoa là gái massage Kính Hoa đã nhầm anh ta thành một bác sĩ Hàn Quốc Cả hai đều ghê gớm không ai có thể dung thứ Kim Tae Soon không biết nhún nhường bị trúng quả đấm bán chuyên của Kinh Hoa Kim Tae Soon bị thương nặng đến không thở nổi Kính Hoa sợ hãi tìm đến ông lão cầu cứu Không ngờ người cũ cặp kè với tình nhân Khải Đề (Mạnh Đông Dịch) ở cùng khách sạn thậm chí không thể tự lo cho bản thân cũng cần yêu cầu Hy Ca đừng tiết lộ chuyện này Hy Ca đã ra giá 1 triệu Nhân dân tệ Kính Hoa đang muốn trốn khỏi khách sạn thì Lão Tiên đã đi khắp nơi để vay tiền thì gặp nhau trong thang máy của khách sạn",
         "Three Billboards Outside Ebbing Missouri 2017 Ba bảng quảng cáo ngoài trời ở Missouri Three Billboards Outside Ebbing Missouri 2017 Sau nhiều tháng trôi qua nhưng vẫn chưa tìm ra hung thủ trong vụ án của con gái mình Mildred Hayes (Frances McDormand) đã thực hiện một bước đi táo bạo vẽ ba biển báo dẫn vào thị trấn của cô với một thông điệp gây tranh cãi về William Willoughby (Woody Harrelson) cảnh sát trưởng nổi tiếng của thị trấn Khi anh cử Dixon (Sam Rockwell) một cậu bé có xu hướng bạo lực tham gia điều tra cuộc chiến thực thi pháp luật giữa Mildred và chính phủ ngày càng trở nên nghiêm trọng",
         "0.24"
        ],
        [
         "48",
         "The Outlaws 2017 Jang Chen ( Yoon KyeSang ) đến từ Trung Quốc và hiện đang làm nghề cho vay nặng lãi tại một khu phố Tàu sầm uất của Seoul Anh ta được hỗ trợ bởi những tay sai khát máu của mình là Wei SungRak ( Jin SunKyu ) và YangTae ( Kim SungKyu ) Jang Chen vượt quá mức tàn bạo trong các phương pháp thu tiền của mình Trong khi đó Ma SukDo ( Ma DongSeok ) là một thám tử ở khu phố Tàu của Seoul Anh ta cố gắng giữ hòa bình trong khi hai băng đảng Trung  Hàn tranh giành nhau trên sân cỏ trong khu phố Jang Chen quyết định tiếp quản",
         "Sound of Your Heart 2016u200f Sound of Your Heart Âm thanh của trái tim 2016 The Sound of Heart dựa trên bộ phim hoạt hình nổi tiếng của Jo Suk The Sound of Heart kể về câu chuyện tình yêu của Jo Suk do nam diễn viên Lee Kwang Soo thủ vai Đây cũng là vai nam chính đầu tiên của anh trong một tác phẩm truyền hình  Lee Kwang Soo được mệnh danh là Hoàng tử châu Á nhờ danh tiếng khi tham gia Running Man",
         "0.2"
        ],
        [
         "49",
         "Better Nate Than Ever 2022 Một cậu bé 13 tuổi sống ở Pittsburgh bị ám ảnh bởi việc trở thành một ngôi sao Broadway và cha mẹ cậu rất hiểu điều đóỞ trường Nate được chọn và được giao vai chính trong vở kịch học đường nhưng lại tìm thấy niềm an ủi ở người bạn duy nhất Libby người luôn ủng hộ anh trong những nỗ lực của mình nhưng bản thân lại mắc chứng mất trí nhớ",
         "Bright As the Moon 2021 câu chuyện xoay quanh câu chuyện tình yêu của Vân Thiển Nguyệt cùng thế tử Dung Cảnh của Vinh vương phủ Tuy yêu nhau đậm sâu nhưng lại bị hoàng quyền áp bức ngăn cản Dung Cảnh vì trúng hàn độc mà chịu nổi khổ đau bệnh mười năm chưa từng ra khỏi phủ Vân Thiên Nguyệt vì yêu hắn mà nguyện trả giá mất đi ký ức mở ra Phượng Hoàng kiếp",
         "0.35"
        ]
       ],
       "shape": {
        "columns": 3,
        "rows": 1600625
       }
      },
      "text/html": [
       "<div>\n",
       "<style scoped>\n",
       "    .dataframe tbody tr th:only-of-type {\n",
       "        vertical-align: middle;\n",
       "    }\n",
       "\n",
       "    .dataframe tbody tr th {\n",
       "        vertical-align: top;\n",
       "    }\n",
       "\n",
       "    .dataframe thead th {\n",
       "        text-align: right;\n",
       "    }\n",
       "</style>\n",
       "<table border=\"1\" class=\"dataframe\">\n",
       "  <thead>\n",
       "    <tr style=\"text-align: right;\">\n",
       "      <th></th>\n",
       "      <th>Describe_1</th>\n",
       "      <th>Describe_2</th>\n",
       "      <th>Similarity_score</th>\n",
       "    </tr>\n",
       "  </thead>\n",
       "  <tbody>\n",
       "    <tr>\n",
       "      <th>0</th>\n",
       "      <td>Backstreet Rookie 2020u200f Choi DaeHyun ( Ji ...</td>\n",
       "      <td>Simple Man 2016 Khế Ước Của Quỷxa0Simple Man (...</td>\n",
       "      <td>0.39</td>\n",
       "    </tr>\n",
       "    <tr>\n",
       "      <th>1</th>\n",
       "      <td>Shin Masked Rider 2023 một bộ phim siêu anh hù...</td>\n",
       "      <td>Star Trek 9 Insurrection 1998 Trong chuyến hàn...</td>\n",
       "      <td>0.35</td>\n",
       "    </tr>\n",
       "    <tr>\n",
       "      <th>2</th>\n",
       "      <td>My Name Is Vendetta 2022 Sofia là một thiếu ni...</td>\n",
       "      <td>Eiga Sumairu Purikyua Ehon no naka wa minna ch...</td>\n",
       "      <td>0.41</td>\n",
       "    </tr>\n",
       "    <tr>\n",
       "      <th>3</th>\n",
       "      <td>Power Ranger Mighty Morphin The Movie 1995 Bộ ...</td>\n",
       "      <td>Dragon Ball Z Movie 11 Super Senshi Gekiha Kat...</td>\n",
       "      <td>0.43</td>\n",
       "    </tr>\n",
       "    <tr>\n",
       "      <th>4</th>\n",
       "      <td>Robot Sori  Sori Voice From The Heart 2016 Cốt...</td>\n",
       "      <td>New Smiling Proud Wanderer 2018 Tân Tiếu Ngạo ...</td>\n",
       "      <td>0.24</td>\n",
       "    </tr>\n",
       "    <tr>\n",
       "      <th>...</th>\n",
       "      <td>...</td>\n",
       "      <td>...</td>\n",
       "      <td>...</td>\n",
       "    </tr>\n",
       "    <tr>\n",
       "      <th>1600620</th>\n",
       "      <td>The Sniper 2020 Đội An ninh Tiger của Công ty ...</td>\n",
       "      <td>Bond 21 Casino Royale 2006 Đặc vụ MI6  James B...</td>\n",
       "      <td>0.40</td>\n",
       "    </tr>\n",
       "    <tr>\n",
       "      <th>1600621</th>\n",
       "      <td>Doraemon the 40th Movie  Nobitas New Dinosaur ...</td>\n",
       "      <td>Go go go 2013 Tỷ Tỷ Sông Phaxa0Go go go 2013 P...</td>\n",
       "      <td>0.21</td>\n",
       "    </tr>\n",
       "    <tr>\n",
       "      <th>1600622</th>\n",
       "      <td>Sòng Bạc 2022 Bộ phim xoay quanh một nhân vật ...</td>\n",
       "      <td>Tale of the Nine Tailed 2020u200f Truyện Cửu V...</td>\n",
       "      <td>0.44</td>\n",
       "    </tr>\n",
       "    <tr>\n",
       "      <th>1600623</th>\n",
       "      <td>Rich in Love 2 (Ricos de Amor 2) 2023 là một b...</td>\n",
       "      <td>Miranda Sings Live Your Welcome 2019 Ngôi sao ...</td>\n",
       "      <td>0.33</td>\n",
       "    </tr>\n",
       "    <tr>\n",
       "      <th>1600624</th>\n",
       "      <td>Murloc 2022 Nhân vật chính trong phim là Hàn H...</td>\n",
       "      <td>Operation Red Sea 2018 Chiến dịch Biển Đỏ 2018...</td>\n",
       "      <td>0.44</td>\n",
       "    </tr>\n",
       "  </tbody>\n",
       "</table>\n",
       "<p>1600625 rows × 3 columns</p>\n",
       "</div>"
      ],
      "text/plain": [
       "                                                Describe_1  \\\n",
       "0        Backstreet Rookie 2020u200f Choi DaeHyun ( Ji ...   \n",
       "1        Shin Masked Rider 2023 một bộ phim siêu anh hù...   \n",
       "2        My Name Is Vendetta 2022 Sofia là một thiếu ni...   \n",
       "3        Power Ranger Mighty Morphin The Movie 1995 Bộ ...   \n",
       "4        Robot Sori  Sori Voice From The Heart 2016 Cốt...   \n",
       "...                                                    ...   \n",
       "1600620  The Sniper 2020 Đội An ninh Tiger của Công ty ...   \n",
       "1600621  Doraemon the 40th Movie  Nobitas New Dinosaur ...   \n",
       "1600622  Sòng Bạc 2022 Bộ phim xoay quanh một nhân vật ...   \n",
       "1600623  Rich in Love 2 (Ricos de Amor 2) 2023 là một b...   \n",
       "1600624  Murloc 2022 Nhân vật chính trong phim là Hàn H...   \n",
       "\n",
       "                                                Describe_2  Similarity_score  \n",
       "0        Simple Man 2016 Khế Ước Của Quỷxa0Simple Man (...              0.39  \n",
       "1        Star Trek 9 Insurrection 1998 Trong chuyến hàn...              0.35  \n",
       "2        Eiga Sumairu Purikyua Ehon no naka wa minna ch...              0.41  \n",
       "3        Dragon Ball Z Movie 11 Super Senshi Gekiha Kat...              0.43  \n",
       "4        New Smiling Proud Wanderer 2018 Tân Tiếu Ngạo ...              0.24  \n",
       "...                                                    ...               ...  \n",
       "1600620  Bond 21 Casino Royale 2006 Đặc vụ MI6  James B...              0.40  \n",
       "1600621  Go go go 2013 Tỷ Tỷ Sông Phaxa0Go go go 2013 P...              0.21  \n",
       "1600622  Tale of the Nine Tailed 2020u200f Truyện Cửu V...              0.44  \n",
       "1600623  Miranda Sings Live Your Welcome 2019 Ngôi sao ...              0.33  \n",
       "1600624  Operation Red Sea 2018 Chiến dịch Biển Đỏ 2018...              0.44  \n",
       "\n",
       "[1600625 rows x 3 columns]"
      ]
     },
     "execution_count": 4,
     "metadata": {},
     "output_type": "execute_result"
    }
   ],
   "source": [
    "train_df"
   ]
  },
  {
   "cell_type": "code",
   "execution_count": null,
   "metadata": {},
   "outputs": [],
   "source": [
    "class PhoBertDataset(Dataset):\n",
    "    def __init__(self, df, tokenizer, max_length=256):\n",
    "        self.tokenizer = tokenizer\n",
    "        self.sentences1 = df['Describe_1'].tolist()\n",
    "        self.sentences2 = df['Describe_2'].tolist()\n",
    "        self.similarity = df['Similarity_score'].tolist()\n",
    "        self.max_length = max_length\n",
    "\n",
    "    def __len__(self):\n",
    "        return len(self.similarity)\n",
    "\n",
    "    def __getitem__(self, idx):\n",
    "        encoded = self.tokenizer(\n",
    "            self.sentences1[idx], self.sentences2[idx],  # Ghép hai câu lại\n",
    "            padding=\"max_length\",\n",
    "            max_length=self.max_length,\n",
    "            return_tensors=\"pt\"\n",
    "        )\n",
    "\n",
    "        return {\n",
    "            \"input_ids\": encoded[\"input_ids\"].squeeze(0),  # (batch_size, seq_len)\n",
    "            \"attention_mask\": encoded[\"attention_mask\"].squeeze(0),\n",
    "            \"label\": torch.tensor(self.similarity[idx], dtype=torch.float32)\n",
    "        }\n"
   ]
  },
  {
   "cell_type": "code",
   "execution_count": null,
   "metadata": {},
   "outputs": [],
   "source": [
    "class WeightedSimilarityMSELoss(nn.Module):\n",
    "    def __init__(self, num_epochs=5, max_weight=50, min_weight=3):\n",
    "        super().__init__()\n",
    "        self.loss_fct = nn.MSELoss(reduction='none')\n",
    "        self.num_epochs = num_epochs\n",
    "        self.max_weight = max_weight\n",
    "        self.min_weight = min_weight\n",
    "    def compute_weight(self, epoch):\n",
    "        # Cách 1: Giảm tuyến tính\n",
    "        return self.max_weight - (epoch / self.num_epochs) * (self.max_weight - self.min_weight)\n",
    "    \n",
    "    def forward(self, model, input_ids, attention_mask, labels, epoch):\n",
    "        outputs = model(input_ids=input_ids, attention_mask=attention_mask)\n",
    "        embeddings = outputs.last_hidden_state[:, 0, :]  # Lấy embedding CLS\n",
    "\n",
    "        embeddings1, embeddings2 = embeddings.chunk(2, dim=0)\n",
    "        cos_sim = nn.functional.cosine_similarity(embeddings1, embeddings2, dim=-1)\n",
    "\n",
    "        loss = self.loss_fct(cos_sim, labels)\n",
    "\n",
    "        weights = torch.ones_like(labels).to(labels.device)\n",
    "        current_weight = self.compute_weight(epoch)\n",
    "        weights[labels <= 0.3] = 1.5\n",
    "        weights[(labels > 0.3) & (labels < 0.7)] = 1.5\n",
    "        weights[labels >= 0.7] = current_weight\n",
    "\n",
    "        return (loss * weights).mean()\n"
   ]
  },
  {
   "cell_type": "code",
   "execution_count": null,
   "metadata": {},
   "outputs": [],
   "source": [
    "def evaluate_model(model, val_dataloader, device):\n",
    "    model.eval()\n",
    "    total_loss, total_mae, num_samples = 0\n",
    "\n",
    "    with torch.no_grad():\n",
    "        for batch in tqdm(val_dataloader, desc=\"Evaluating\"):\n",
    "            input_ids = batch[\"input_ids\"].to(device)\n",
    "            attention_mask = batch[\"attention_mask\"].to(device)\n",
    "            labels = batch[\"label\"].to(device)\n",
    "\n",
    "            outputs = model(input_ids=input_ids, attention_mask=attention_mask)\n",
    "            embeddings = outputs.last_hidden_state[:, 0, :]\n",
    "\n",
    "            embeddings1, embeddings2 = embeddings.chunk(2, dim=0)\n",
    "            cos_sim = nn.functional.cosine_similarity(embeddings1, embeddings2, dim=-1)\n",
    "\n",
    "            loss = nn.MSELoss()(cos_sim, labels)\n",
    "            total_loss += loss.item() * labels.size(0)\n",
    "\n",
    "            mae = torch.abs(cos_sim - labels).mean().item()\n",
    "            total_mae += mae * labels.size(0)\n",
    "\n",
    "            num_samples += labels.size(0)\n",
    "\n",
    "    avg_loss = total_loss / num_samples\n",
    "    avg_mae = total_mae / num_samples\n",
    "\n",
    "    print(f\"Validation Loss: {avg_loss:.2f} | Validation MAE: {avg_mae:.2f}\")\n",
    "    return avg_loss, avg_mae\n"
   ]
  },
  {
   "cell_type": "code",
   "execution_count": null,
   "metadata": {},
   "outputs": [],
   "source": [
    "device = torch.device(\"cuda\" if torch.cuda.is_available() else \"cpu\")\n",
    "tokenizer = AutoTokenizer.from_pretrained('vinai/phobert-base')\n",
    "\n",
    "train_data = PhoBertDataset(train_df, tokenizer)\n",
    "val_data = PhoBertDataset(valid_df, tokenizer)\n",
    "\n",
    "train_dataloader = DataLoader(train_data, batch_size=32, shuffle=True)\n",
    "val_dataloader = DataLoader(val_data, batch_size=32)\n",
    "\n",
    "model = AutoModel.from_pretrained('vinai/phobert-base').to(device)\n",
    "loss_pb = WeightedSimilarityMSELoss(num_epochs=5).to(device)\n",
    "\n",
    "optimizer = optim.AdamW(model.parameters(), lr=5e-5, weight_decay=0.01)\n",
    "scaler = torch.cuda.amp.GradScaler()  # Mixed Precision\n",
    "\n",
    "for epoch in range(5):\n",
    "    model.train()\n",
    "    epoch_iterator = tqdm(train_dataloader, desc=f\"Epoch {epoch + 1}\")\n",
    "\n",
    "    for batch in epoch_iterator:\n",
    "        input_ids = batch[\"input_ids\"].to(device)\n",
    "        attention_mask = batch[\"attention_mask\"].to(device)\n",
    "        labels = batch[\"label\"].to(device)\n",
    "\n",
    "        optimizer.zero_grad()\n",
    "        with torch.cuda.amp.autocast():\n",
    "            loss = loss_pb(model, input_ids, attention_mask, labels, epoch)\n",
    "\n",
    "        scaler.scale(loss).backward()\n",
    "        scaler.step(optimizer)\n",
    "        scaler.update()\n",
    "\n",
    "        epoch_iterator.set_postfix(loss=loss.item())\n",
    "\n",
    "    # Đánh giá sau mỗi epoch\n",
    "    val_loss, val_mae = evaluate_model(model, val_dataloader, device)\n"
   ]
  },
  {
   "cell_type": "code",
   "execution_count": null,
   "metadata": {},
   "outputs": [],
   "source": [
    "model.save_pretrained(\"fine_tuned_phobert\")\n",
    "tokenizer.save_pretrained(\"fine_tuned_phobert\")\n"
   ]
  }
 ],
 "metadata": {
  "kernelspec": {
   "display_name": ".venv",
   "language": "python",
   "name": "python3"
  },
  "language_info": {
   "codemirror_mode": {
    "name": "ipython",
    "version": 3
   },
   "file_extension": ".py",
   "mimetype": "text/x-python",
   "name": "python",
   "nbconvert_exporter": "python",
   "pygments_lexer": "ipython3",
   "version": "3.10.11"
  }
 },
 "nbformat": 4,
 "nbformat_minor": 2
}
