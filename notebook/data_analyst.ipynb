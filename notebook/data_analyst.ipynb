{
 "cells": [
  {
   "cell_type": "markdown",
   "metadata": {},
   "source": [
    "### Data Analyst & Handling Data"
   ]
  },
  {
   "cell_type": "code",
   "execution_count": 1,
   "metadata": {},
   "outputs": [],
   "source": [
    "import pandas as pd\n",
    "import matplotlib.pyplot as plt\n",
    "import seaborn as sns\n",
    "from collections import Counter\n",
    "import numpy as np\n",
    "import re"
   ]
  },
  {
   "cell_type": "code",
   "execution_count": 2,
   "metadata": {},
   "outputs": [
    {
     "data": {
      "text/plain": [
       "(9505, 12)"
      ]
     },
     "execution_count": 2,
     "metadata": {},
     "output_type": "execute_result"
    }
   ],
   "source": [
    "# SHAPE OF DATA\n",
    "\n",
    "df_movie = pd.read_csv('../crawl_data/Movie_Phimmoi.csv')\n",
    "df_movie.shape"
   ]
  },
  {
   "cell_type": "code",
   "execution_count": 3,
   "metadata": {},
   "outputs": [
    {
     "data": {
      "application/vnd.microsoft.datawrangler.viewer.v0+json": {
       "columns": [
        {
         "name": "index",
         "rawType": "int64",
         "type": "integer"
        },
        {
         "name": "url_film",
         "rawType": "object",
         "type": "string"
        },
        {
         "name": "title",
         "rawType": "object",
         "type": "string"
        },
        {
         "name": "describe",
         "rawType": "object",
         "type": "string"
        },
        {
         "name": "rating",
         "rawType": "object",
         "type": "string"
        },
        {
         "name": "rate_count",
         "rawType": "float64",
         "type": "float"
        },
        {
         "name": "status",
         "rawType": "int64",
         "type": "integer"
        },
        {
         "name": "release_year",
         "rawType": "object",
         "type": "string"
        },
        {
         "name": "country",
         "rawType": "object",
         "type": "string"
        },
        {
         "name": "genre",
         "rawType": "object",
         "type": "string"
        },
        {
         "name": "director",
         "rawType": "object",
         "type": "string"
        },
        {
         "name": "actor",
         "rawType": "object",
         "type": "string"
        },
        {
         "name": "img_film",
         "rawType": "object",
         "type": "string"
        }
       ],
       "conversionMethod": "pd.DataFrame",
       "ref": "503c9d79-604d-4b2e-9b64-5848bebbd8af",
       "rows": [
        [
         "0",
         "https://phimmoichill.blog/info/newtopia-pm16433",
         "Newtopia",
         "[' Newtopia Tân Thế Giới 2025 xoay quanh về cặp đôi Lee Jae-yoon (do Park Jeong-min thủ vai) và Kang Young-ju (do Jisoo thủ vai), những người vừa chia tay nhưng cố gắng tái hợp sau khi một đại dịch zombie bùng phát, lan rộng khắp Hàn Quốc.\\xa0 ', ' ']",
         "7",
         "208.0",
         "1",
         "2025",
         "Phim Hàn Quốc",
         "Phim Hành Động",
         "Yoon Sung Hyun",
         "['Park Jeong Min', 'Kim Ji Soo', 'Im Sung Jae', 'Kim Joon Han']",
         "https://img.phimmoichill.blog/images/film/newtopia.jpg"
        ],
        [
         "1",
         "https://phimmoichill.blog/info/ho-den-tu-than-pm2633",
         "Hố Đen Tử Thần",
         "[' Hố Đen Tử Thần Interstellar 2014 Interstellar (2014) \"Interstellar\" ghi lại những cuộc phiêu lưu vĩ đại của một nhóm các nhà thám hiểm sử dụng khám phá mới về lỗ đen vũ trụ để vượt qua giới hạn thông thường của du lịch. không gian, chinh phục sự rộng lớn của không gian trong chuyến hành trình xuyên thiên hà ... ', ' ']",
         "8",
         "95.0",
         "1",
         "2014",
         "Phim Âu Mỹ",
         "Phim Hành Động",
         "Christopher Nolan",
         "['Jessica Chastain', 'Matthew McConaughey', 'Anne Hathaway']",
         "https://img.phimmoichill.blog/images/film/ho-den-tu-than.jpg"
        ],
        [
         "2",
         "https://phimmoichill.blog/info/trai-tim-bi-chon-vui-pm16455",
         "Trái Tim Bị Chôn Vùi",
         "[' Trái Tim Bị Chôn Vùi Buried Hearts 2025 Câu chuyện xoay quanh một người đàn ông bí ẩn, đã hack vào một quỹ đen chính trị trị giá 2 nghìn tỷ won để sống sót. Người này là một nhân vật quyền lực, tuy nhiên, anh ta đã mất số tiền khổng lồ đó sau khi giết một người mà không biết rằng mình đã bị hack. Seo Dong Ju làm lãnh đạo trong văn phòng thư ký chủ tịch tại Tập đoàn Daesan. Được biết đến với cái tên \"Daesan Man\", anh ta sống chết vì lợi ích tập đoàn nhưng che giấu tham vọng sâu thẳm của mình: tiêu thụ hoàn toàn Tập đoàn Daesan khi có cơ hội. Yeom Jang Seon là một giáo sư trường luật và cựu giám đốc Cơ quan Tình báo Quốc gia, là người có ảnh hưởng lớn trong thế giới chính trị Hàn Quốc. Ông kiểm soát cả những người đứng sau quyền lực, cảm thấy thỏa mãn khi sử dụng tiền bạc và quyền lực để thao túng người khác như những con rối. Cuộc chiến giữa những nhân vật này dần hé lộ những tham vọng và mưu đồ phức tạp trong thế giới chính trị đầy rẫy cạm bẫy. ', ' ']",
         "9",
         "35.0",
         "1",
         "2025",
         "Phim Hàn Quốc",
         "Phim Hành Động",
         "Jin Chang Gyu",
         "['Park Hyung Sik', 'Hong Hwa Yeon', 'Huh Joon Ho', 'Lee Hae Young']",
         "https://img.phimmoichill.blog/images/film/trai-tim-bi-chon-vui-vietsub.jpg"
        ],
        [
         "3",
         "https://phimmoichill.blog/info/yeu-la-dau-pm16412",
         "Yêu Là Đau",
         "[' Yêu Là Đau Love Hurts 2025 Marvin Gable (do Quan Kế Huy thủ vai) là một nhân viên môi giới bất động sản thành công tại vùng ngoại ô Milwaukee. Tuy nhiên anh từng có quá khứ là một sát thủ chuyên nghiệp. Cuộc sống yên bình của Marvin bị đảo lộn khi anh nhận được một phong bì đỏ bí ẩn từ Rose (Ariana DeBose), người bạn cũ mà anh tưởng đã chết. Điều này buộc anh phải đối mặt với thế giới tội phạm mà anh đã cố gắng rời bỏ, đặc biệt là khi anh trai của anh là Knuckles Gable (Ngô Ngạn Tổ), một trùm tội phạm khét tiếng đang truy lùng anh. Marvin phải đối mặt với quá khứ và những mối nguy hiểm mới để bảo vệ cuộc sống hiện tại của mình.\\xa0 ', ' ']",
         "5",
         "14.0",
         "1",
         "2025",
         "Phim Âu Mỹ",
         "Phim Hành Động",
         "Jonathan Eusebio",
         "['Quan Kế Huy', 'Ariana DeBose', 'Ngô Ngạn Tổ', 'Marshawn Lynch']",
         "https://img.phimmoichill.blog/images/film/yeu-la-dau.jpg"
        ],
        [
         "4",
         "https://phimmoichill.blog/info/ngo-phan-pm16458",
         "Ngộ Phán",
         "[' Ngộ Phán The Prosecutor 2024 Câu chuyện xoay quanh Hoắc Tử Hào (Chân Tử Đan thủ vai), một cựu cảnh sát trở thành công tố viên. Anh nhận thấy những điểm bất thường trong vụ án của Ma Ka-kit (Phùng Tử Sanh thủ vai), một thanh niên nghèo bị buộc tội buôn lậu ma túy sau khi bị lừa gạt. Fok quyết định điều tra riêng và phát hiện ra âm mưu của một nhóm luật sư tham nhũng do Au Pak-man (Trương Trí Lâm thủ vai) cầm đầu. Bất chấp sự cản trở từ các thế lực xấu, Fok kiên trì theo đuổi sự thật để minh oan cho Ma Ka-kit và đưa những kẻ phạm tội ra ánh sáng.\\xa0 ', ' ']",
         "7",
         "127.0",
         "1",
         "2024",
         "Phim Hồng Kông",
         "Phim Hành Động",
         "Chân Tử Đan",
         "['Chân Tử Đan', 'Trương Trí Lâm', 'Huệ Anh Hồng']",
         "https://img.phimmoichill.blog/images/film/ngo-phan.jpg"
        ]
       ],
       "shape": {
        "columns": 12,
        "rows": 5
       }
      },
      "text/html": [
       "<div>\n",
       "<style scoped>\n",
       "    .dataframe tbody tr th:only-of-type {\n",
       "        vertical-align: middle;\n",
       "    }\n",
       "\n",
       "    .dataframe tbody tr th {\n",
       "        vertical-align: top;\n",
       "    }\n",
       "\n",
       "    .dataframe thead th {\n",
       "        text-align: right;\n",
       "    }\n",
       "</style>\n",
       "<table border=\"1\" class=\"dataframe\">\n",
       "  <thead>\n",
       "    <tr style=\"text-align: right;\">\n",
       "      <th></th>\n",
       "      <th>url_film</th>\n",
       "      <th>title</th>\n",
       "      <th>describe</th>\n",
       "      <th>rating</th>\n",
       "      <th>rate_count</th>\n",
       "      <th>status</th>\n",
       "      <th>release_year</th>\n",
       "      <th>country</th>\n",
       "      <th>genre</th>\n",
       "      <th>director</th>\n",
       "      <th>actor</th>\n",
       "      <th>img_film</th>\n",
       "    </tr>\n",
       "  </thead>\n",
       "  <tbody>\n",
       "    <tr>\n",
       "      <th>0</th>\n",
       "      <td>https://phimmoichill.blog/info/newtopia-pm16433</td>\n",
       "      <td>Newtopia</td>\n",
       "      <td>[' Newtopia Tân Thế Giới 2025 xoay quanh về ...</td>\n",
       "      <td>7</td>\n",
       "      <td>208.0</td>\n",
       "      <td>1</td>\n",
       "      <td>2025</td>\n",
       "      <td>Phim Hàn Quốc</td>\n",
       "      <td>Phim Hành Động</td>\n",
       "      <td>Yoon Sung Hyun</td>\n",
       "      <td>['Park Jeong Min', 'Kim Ji Soo', 'Im Sung Jae'...</td>\n",
       "      <td>https://img.phimmoichill.blog/images/film/newt...</td>\n",
       "    </tr>\n",
       "    <tr>\n",
       "      <th>1</th>\n",
       "      <td>https://phimmoichill.blog/info/ho-den-tu-than-...</td>\n",
       "      <td>Hố Đen Tử Thần</td>\n",
       "      <td>[' Hố Đen Tử Thần Interstellar 2014 Interstell...</td>\n",
       "      <td>8</td>\n",
       "      <td>95.0</td>\n",
       "      <td>1</td>\n",
       "      <td>2014</td>\n",
       "      <td>Phim Âu Mỹ</td>\n",
       "      <td>Phim Hành Động</td>\n",
       "      <td>Christopher Nolan</td>\n",
       "      <td>['Jessica Chastain', 'Matthew McConaughey', 'A...</td>\n",
       "      <td>https://img.phimmoichill.blog/images/film/ho-d...</td>\n",
       "    </tr>\n",
       "    <tr>\n",
       "      <th>2</th>\n",
       "      <td>https://phimmoichill.blog/info/trai-tim-bi-cho...</td>\n",
       "      <td>Trái Tim Bị Chôn Vùi</td>\n",
       "      <td>[' Trái Tim Bị Chôn Vùi Buried Hearts 2025 Câu...</td>\n",
       "      <td>9</td>\n",
       "      <td>35.0</td>\n",
       "      <td>1</td>\n",
       "      <td>2025</td>\n",
       "      <td>Phim Hàn Quốc</td>\n",
       "      <td>Phim Hành Động</td>\n",
       "      <td>Jin Chang Gyu</td>\n",
       "      <td>['Park Hyung Sik', 'Hong Hwa Yeon', 'Huh Joon ...</td>\n",
       "      <td>https://img.phimmoichill.blog/images/film/trai...</td>\n",
       "    </tr>\n",
       "    <tr>\n",
       "      <th>3</th>\n",
       "      <td>https://phimmoichill.blog/info/yeu-la-dau-pm16412</td>\n",
       "      <td>Yêu Là Đau</td>\n",
       "      <td>[' Yêu Là Đau Love Hurts 2025 Marvin Gable (do...</td>\n",
       "      <td>5</td>\n",
       "      <td>14.0</td>\n",
       "      <td>1</td>\n",
       "      <td>2025</td>\n",
       "      <td>Phim Âu Mỹ</td>\n",
       "      <td>Phim Hành Động</td>\n",
       "      <td>Jonathan Eusebio</td>\n",
       "      <td>['Quan Kế Huy', 'Ariana DeBose', 'Ngô Ngạn Tổ'...</td>\n",
       "      <td>https://img.phimmoichill.blog/images/film/yeu-...</td>\n",
       "    </tr>\n",
       "    <tr>\n",
       "      <th>4</th>\n",
       "      <td>https://phimmoichill.blog/info/ngo-phan-pm16458</td>\n",
       "      <td>Ngộ Phán</td>\n",
       "      <td>[' Ngộ Phán The Prosecutor 2024 Câu chuyện xoa...</td>\n",
       "      <td>7</td>\n",
       "      <td>127.0</td>\n",
       "      <td>1</td>\n",
       "      <td>2024</td>\n",
       "      <td>Phim Hồng Kông</td>\n",
       "      <td>Phim Hành Động</td>\n",
       "      <td>Chân Tử Đan</td>\n",
       "      <td>['Chân Tử Đan', 'Trương Trí Lâm', 'Huệ Anh Hồng']</td>\n",
       "      <td>https://img.phimmoichill.blog/images/film/ngo-...</td>\n",
       "    </tr>\n",
       "  </tbody>\n",
       "</table>\n",
       "</div>"
      ],
      "text/plain": [
       "                                            url_film                 title  \\\n",
       "0    https://phimmoichill.blog/info/newtopia-pm16433              Newtopia   \n",
       "1  https://phimmoichill.blog/info/ho-den-tu-than-...        Hố Đen Tử Thần   \n",
       "2  https://phimmoichill.blog/info/trai-tim-bi-cho...  Trái Tim Bị Chôn Vùi   \n",
       "3  https://phimmoichill.blog/info/yeu-la-dau-pm16412            Yêu Là Đau   \n",
       "4    https://phimmoichill.blog/info/ngo-phan-pm16458              Ngộ Phán   \n",
       "\n",
       "                                            describe rating  rate_count  \\\n",
       "0  [' Newtopia Tân Thế Giới 2025 xoay quanh về ...      7       208.0   \n",
       "1  [' Hố Đen Tử Thần Interstellar 2014 Interstell...      8        95.0   \n",
       "2  [' Trái Tim Bị Chôn Vùi Buried Hearts 2025 Câu...      9        35.0   \n",
       "3  [' Yêu Là Đau Love Hurts 2025 Marvin Gable (do...      5        14.0   \n",
       "4  [' Ngộ Phán The Prosecutor 2024 Câu chuyện xoa...      7       127.0   \n",
       "\n",
       "   status release_year         country           genre           director  \\\n",
       "0       1         2025   Phim Hàn Quốc  Phim Hành Động     Yoon Sung Hyun   \n",
       "1       1         2014      Phim Âu Mỹ  Phim Hành Động  Christopher Nolan   \n",
       "2       1         2025   Phim Hàn Quốc  Phim Hành Động      Jin Chang Gyu   \n",
       "3       1         2025      Phim Âu Mỹ  Phim Hành Động   Jonathan Eusebio   \n",
       "4       1         2024  Phim Hồng Kông  Phim Hành Động        Chân Tử Đan   \n",
       "\n",
       "                                               actor  \\\n",
       "0  ['Park Jeong Min', 'Kim Ji Soo', 'Im Sung Jae'...   \n",
       "1  ['Jessica Chastain', 'Matthew McConaughey', 'A...   \n",
       "2  ['Park Hyung Sik', 'Hong Hwa Yeon', 'Huh Joon ...   \n",
       "3  ['Quan Kế Huy', 'Ariana DeBose', 'Ngô Ngạn Tổ'...   \n",
       "4  ['Chân Tử Đan', 'Trương Trí Lâm', 'Huệ Anh Hồng']   \n",
       "\n",
       "                                            img_film  \n",
       "0  https://img.phimmoichill.blog/images/film/newt...  \n",
       "1  https://img.phimmoichill.blog/images/film/ho-d...  \n",
       "2  https://img.phimmoichill.blog/images/film/trai...  \n",
       "3  https://img.phimmoichill.blog/images/film/yeu-...  \n",
       "4  https://img.phimmoichill.blog/images/film/ngo-...  "
      ]
     },
     "execution_count": 3,
     "metadata": {},
     "output_type": "execute_result"
    }
   ],
   "source": [
    "# VIEW HEAD OF DATA\n",
    "df_movie.head()"
   ]
  },
  {
   "cell_type": "code",
   "execution_count": 4,
   "metadata": {},
   "outputs": [
    {
     "data": {
      "application/vnd.microsoft.datawrangler.viewer.v0+json": {
       "columns": [
        {
         "name": "index",
         "rawType": "int64",
         "type": "integer"
        },
        {
         "name": "url_film",
         "rawType": "object",
         "type": "string"
        },
        {
         "name": "title",
         "rawType": "object",
         "type": "string"
        },
        {
         "name": "describe",
         "rawType": "object",
         "type": "string"
        },
        {
         "name": "rating",
         "rawType": "object",
         "type": "string"
        },
        {
         "name": "rate_count",
         "rawType": "float64",
         "type": "float"
        },
        {
         "name": "status",
         "rawType": "int64",
         "type": "integer"
        },
        {
         "name": "release_year",
         "rawType": "object",
         "type": "string"
        },
        {
         "name": "country",
         "rawType": "object",
         "type": "string"
        },
        {
         "name": "genre",
         "rawType": "object",
         "type": "string"
        },
        {
         "name": "director",
         "rawType": "object",
         "type": "string"
        },
        {
         "name": "actor",
         "rawType": "object",
         "type": "string"
        },
        {
         "name": "img_film",
         "rawType": "object",
         "type": "string"
        }
       ],
       "conversionMethod": "pd.DataFrame",
       "ref": "3c8f03fe-5a9f-4f95-ad19-a7a1038bd9c7",
       "rows": [
        [
         "0",
         "https://phimmoichill.blog/info/newtopia-pm16433",
         "Newtopia",
         "[' Newtopia Tân Thế Giới 2025 xoay quanh về cặp đôi Lee Jae-yoon (do Park Jeong-min thủ vai) và Kang Young-ju (do Jisoo thủ vai), những người vừa chia tay nhưng cố gắng tái hợp sau khi một đại dịch zombie bùng phát, lan rộng khắp Hàn Quốc.\\xa0 ', ' ']",
         "7",
         "208.0",
         "1",
         "2025",
         "Phim Hàn Quốc",
         "Phim Hành Động",
         "Yoon Sung Hyun",
         "['Park Jeong Min', 'Kim Ji Soo', 'Im Sung Jae', 'Kim Joon Han']",
         "https://img.phimmoichill.blog/images/film/newtopia.jpg"
        ],
        [
         "1",
         "https://phimmoichill.blog/info/ho-den-tu-than-pm2633",
         "Hố Đen Tử Thần",
         "[' Hố Đen Tử Thần Interstellar 2014 Interstellar (2014) \"Interstellar\" ghi lại những cuộc phiêu lưu vĩ đại của một nhóm các nhà thám hiểm sử dụng khám phá mới về lỗ đen vũ trụ để vượt qua giới hạn thông thường của du lịch. không gian, chinh phục sự rộng lớn của không gian trong chuyến hành trình xuyên thiên hà ... ', ' ']",
         "8",
         "95.0",
         "1",
         "2014",
         "Phim Âu Mỹ",
         "Phim Hành Động",
         "Christopher Nolan",
         "['Jessica Chastain', 'Matthew McConaughey', 'Anne Hathaway']",
         "https://img.phimmoichill.blog/images/film/ho-den-tu-than.jpg"
        ],
        [
         "2",
         "https://phimmoichill.blog/info/trai-tim-bi-chon-vui-pm16455",
         "Trái Tim Bị Chôn Vùi",
         "[' Trái Tim Bị Chôn Vùi Buried Hearts 2025 Câu chuyện xoay quanh một người đàn ông bí ẩn, đã hack vào một quỹ đen chính trị trị giá 2 nghìn tỷ won để sống sót. Người này là một nhân vật quyền lực, tuy nhiên, anh ta đã mất số tiền khổng lồ đó sau khi giết một người mà không biết rằng mình đã bị hack. Seo Dong Ju làm lãnh đạo trong văn phòng thư ký chủ tịch tại Tập đoàn Daesan. Được biết đến với cái tên \"Daesan Man\", anh ta sống chết vì lợi ích tập đoàn nhưng che giấu tham vọng sâu thẳm của mình: tiêu thụ hoàn toàn Tập đoàn Daesan khi có cơ hội. Yeom Jang Seon là một giáo sư trường luật và cựu giám đốc Cơ quan Tình báo Quốc gia, là người có ảnh hưởng lớn trong thế giới chính trị Hàn Quốc. Ông kiểm soát cả những người đứng sau quyền lực, cảm thấy thỏa mãn khi sử dụng tiền bạc và quyền lực để thao túng người khác như những con rối. Cuộc chiến giữa những nhân vật này dần hé lộ những tham vọng và mưu đồ phức tạp trong thế giới chính trị đầy rẫy cạm bẫy. ', ' ']",
         "9",
         "35.0",
         "1",
         "2025",
         "Phim Hàn Quốc",
         "Phim Hành Động",
         "Jin Chang Gyu",
         "['Park Hyung Sik', 'Hong Hwa Yeon', 'Huh Joon Ho', 'Lee Hae Young']",
         "https://img.phimmoichill.blog/images/film/trai-tim-bi-chon-vui-vietsub.jpg"
        ],
        [
         "3",
         "https://phimmoichill.blog/info/yeu-la-dau-pm16412",
         "Yêu Là Đau",
         "[' Yêu Là Đau Love Hurts 2025 Marvin Gable (do Quan Kế Huy thủ vai) là một nhân viên môi giới bất động sản thành công tại vùng ngoại ô Milwaukee. Tuy nhiên anh từng có quá khứ là một sát thủ chuyên nghiệp. Cuộc sống yên bình của Marvin bị đảo lộn khi anh nhận được một phong bì đỏ bí ẩn từ Rose (Ariana DeBose), người bạn cũ mà anh tưởng đã chết. Điều này buộc anh phải đối mặt với thế giới tội phạm mà anh đã cố gắng rời bỏ, đặc biệt là khi anh trai của anh là Knuckles Gable (Ngô Ngạn Tổ), một trùm tội phạm khét tiếng đang truy lùng anh. Marvin phải đối mặt với quá khứ và những mối nguy hiểm mới để bảo vệ cuộc sống hiện tại của mình.\\xa0 ', ' ']",
         "5",
         "14.0",
         "1",
         "2025",
         "Phim Âu Mỹ",
         "Phim Hành Động",
         "Jonathan Eusebio",
         "['Quan Kế Huy', 'Ariana DeBose', 'Ngô Ngạn Tổ', 'Marshawn Lynch']",
         "https://img.phimmoichill.blog/images/film/yeu-la-dau.jpg"
        ],
        [
         "4",
         "https://phimmoichill.blog/info/ngo-phan-pm16458",
         "Ngộ Phán",
         "[' Ngộ Phán The Prosecutor 2024 Câu chuyện xoay quanh Hoắc Tử Hào (Chân Tử Đan thủ vai), một cựu cảnh sát trở thành công tố viên. Anh nhận thấy những điểm bất thường trong vụ án của Ma Ka-kit (Phùng Tử Sanh thủ vai), một thanh niên nghèo bị buộc tội buôn lậu ma túy sau khi bị lừa gạt. Fok quyết định điều tra riêng và phát hiện ra âm mưu của một nhóm luật sư tham nhũng do Au Pak-man (Trương Trí Lâm thủ vai) cầm đầu. Bất chấp sự cản trở từ các thế lực xấu, Fok kiên trì theo đuổi sự thật để minh oan cho Ma Ka-kit và đưa những kẻ phạm tội ra ánh sáng.\\xa0 ', ' ']",
         "7",
         "127.0",
         "1",
         "2024",
         "Phim Hồng Kông",
         "Phim Hành Động",
         "Chân Tử Đan",
         "['Chân Tử Đan', 'Trương Trí Lâm', 'Huệ Anh Hồng']",
         "https://img.phimmoichill.blog/images/film/ngo-phan.jpg"
        ]
       ],
       "shape": {
        "columns": 12,
        "rows": 5
       }
      },
      "text/html": [
       "<div>\n",
       "<style scoped>\n",
       "    .dataframe tbody tr th:only-of-type {\n",
       "        vertical-align: middle;\n",
       "    }\n",
       "\n",
       "    .dataframe tbody tr th {\n",
       "        vertical-align: top;\n",
       "    }\n",
       "\n",
       "    .dataframe thead th {\n",
       "        text-align: right;\n",
       "    }\n",
       "</style>\n",
       "<table border=\"1\" class=\"dataframe\">\n",
       "  <thead>\n",
       "    <tr style=\"text-align: right;\">\n",
       "      <th></th>\n",
       "      <th>url_film</th>\n",
       "      <th>title</th>\n",
       "      <th>describe</th>\n",
       "      <th>rating</th>\n",
       "      <th>rate_count</th>\n",
       "      <th>status</th>\n",
       "      <th>release_year</th>\n",
       "      <th>country</th>\n",
       "      <th>genre</th>\n",
       "      <th>director</th>\n",
       "      <th>actor</th>\n",
       "      <th>img_film</th>\n",
       "    </tr>\n",
       "  </thead>\n",
       "  <tbody>\n",
       "    <tr>\n",
       "      <th>0</th>\n",
       "      <td>https://phimmoichill.blog/info/newtopia-pm16433</td>\n",
       "      <td>Newtopia</td>\n",
       "      <td>[' Newtopia Tân Thế Giới 2025 xoay quanh về ...</td>\n",
       "      <td>7</td>\n",
       "      <td>208.0</td>\n",
       "      <td>1</td>\n",
       "      <td>2025</td>\n",
       "      <td>Phim Hàn Quốc</td>\n",
       "      <td>Phim Hành Động</td>\n",
       "      <td>Yoon Sung Hyun</td>\n",
       "      <td>['Park Jeong Min', 'Kim Ji Soo', 'Im Sung Jae'...</td>\n",
       "      <td>https://img.phimmoichill.blog/images/film/newt...</td>\n",
       "    </tr>\n",
       "    <tr>\n",
       "      <th>1</th>\n",
       "      <td>https://phimmoichill.blog/info/ho-den-tu-than-...</td>\n",
       "      <td>Hố Đen Tử Thần</td>\n",
       "      <td>[' Hố Đen Tử Thần Interstellar 2014 Interstell...</td>\n",
       "      <td>8</td>\n",
       "      <td>95.0</td>\n",
       "      <td>1</td>\n",
       "      <td>2014</td>\n",
       "      <td>Phim Âu Mỹ</td>\n",
       "      <td>Phim Hành Động</td>\n",
       "      <td>Christopher Nolan</td>\n",
       "      <td>['Jessica Chastain', 'Matthew McConaughey', 'A...</td>\n",
       "      <td>https://img.phimmoichill.blog/images/film/ho-d...</td>\n",
       "    </tr>\n",
       "    <tr>\n",
       "      <th>2</th>\n",
       "      <td>https://phimmoichill.blog/info/trai-tim-bi-cho...</td>\n",
       "      <td>Trái Tim Bị Chôn Vùi</td>\n",
       "      <td>[' Trái Tim Bị Chôn Vùi Buried Hearts 2025 Câu...</td>\n",
       "      <td>9</td>\n",
       "      <td>35.0</td>\n",
       "      <td>1</td>\n",
       "      <td>2025</td>\n",
       "      <td>Phim Hàn Quốc</td>\n",
       "      <td>Phim Hành Động</td>\n",
       "      <td>Jin Chang Gyu</td>\n",
       "      <td>['Park Hyung Sik', 'Hong Hwa Yeon', 'Huh Joon ...</td>\n",
       "      <td>https://img.phimmoichill.blog/images/film/trai...</td>\n",
       "    </tr>\n",
       "    <tr>\n",
       "      <th>3</th>\n",
       "      <td>https://phimmoichill.blog/info/yeu-la-dau-pm16412</td>\n",
       "      <td>Yêu Là Đau</td>\n",
       "      <td>[' Yêu Là Đau Love Hurts 2025 Marvin Gable (do...</td>\n",
       "      <td>5</td>\n",
       "      <td>14.0</td>\n",
       "      <td>1</td>\n",
       "      <td>2025</td>\n",
       "      <td>Phim Âu Mỹ</td>\n",
       "      <td>Phim Hành Động</td>\n",
       "      <td>Jonathan Eusebio</td>\n",
       "      <td>['Quan Kế Huy', 'Ariana DeBose', 'Ngô Ngạn Tổ'...</td>\n",
       "      <td>https://img.phimmoichill.blog/images/film/yeu-...</td>\n",
       "    </tr>\n",
       "    <tr>\n",
       "      <th>4</th>\n",
       "      <td>https://phimmoichill.blog/info/ngo-phan-pm16458</td>\n",
       "      <td>Ngộ Phán</td>\n",
       "      <td>[' Ngộ Phán The Prosecutor 2024 Câu chuyện xoa...</td>\n",
       "      <td>7</td>\n",
       "      <td>127.0</td>\n",
       "      <td>1</td>\n",
       "      <td>2024</td>\n",
       "      <td>Phim Hồng Kông</td>\n",
       "      <td>Phim Hành Động</td>\n",
       "      <td>Chân Tử Đan</td>\n",
       "      <td>['Chân Tử Đan', 'Trương Trí Lâm', 'Huệ Anh Hồng']</td>\n",
       "      <td>https://img.phimmoichill.blog/images/film/ngo-...</td>\n",
       "    </tr>\n",
       "  </tbody>\n",
       "</table>\n",
       "</div>"
      ],
      "text/plain": [
       "                                            url_film                 title  \\\n",
       "0    https://phimmoichill.blog/info/newtopia-pm16433              Newtopia   \n",
       "1  https://phimmoichill.blog/info/ho-den-tu-than-...        Hố Đen Tử Thần   \n",
       "2  https://phimmoichill.blog/info/trai-tim-bi-cho...  Trái Tim Bị Chôn Vùi   \n",
       "3  https://phimmoichill.blog/info/yeu-la-dau-pm16412            Yêu Là Đau   \n",
       "4    https://phimmoichill.blog/info/ngo-phan-pm16458              Ngộ Phán   \n",
       "\n",
       "                                            describe rating  rate_count  \\\n",
       "0  [' Newtopia Tân Thế Giới 2025 xoay quanh về ...      7       208.0   \n",
       "1  [' Hố Đen Tử Thần Interstellar 2014 Interstell...      8        95.0   \n",
       "2  [' Trái Tim Bị Chôn Vùi Buried Hearts 2025 Câu...      9        35.0   \n",
       "3  [' Yêu Là Đau Love Hurts 2025 Marvin Gable (do...      5        14.0   \n",
       "4  [' Ngộ Phán The Prosecutor 2024 Câu chuyện xoa...      7       127.0   \n",
       "\n",
       "   status release_year         country           genre           director  \\\n",
       "0       1         2025   Phim Hàn Quốc  Phim Hành Động     Yoon Sung Hyun   \n",
       "1       1         2014      Phim Âu Mỹ  Phim Hành Động  Christopher Nolan   \n",
       "2       1         2025   Phim Hàn Quốc  Phim Hành Động      Jin Chang Gyu   \n",
       "3       1         2025      Phim Âu Mỹ  Phim Hành Động   Jonathan Eusebio   \n",
       "4       1         2024  Phim Hồng Kông  Phim Hành Động        Chân Tử Đan   \n",
       "\n",
       "                                               actor  \\\n",
       "0  ['Park Jeong Min', 'Kim Ji Soo', 'Im Sung Jae'...   \n",
       "1  ['Jessica Chastain', 'Matthew McConaughey', 'A...   \n",
       "2  ['Park Hyung Sik', 'Hong Hwa Yeon', 'Huh Joon ...   \n",
       "3  ['Quan Kế Huy', 'Ariana DeBose', 'Ngô Ngạn Tổ'...   \n",
       "4  ['Chân Tử Đan', 'Trương Trí Lâm', 'Huệ Anh Hồng']   \n",
       "\n",
       "                                            img_film  \n",
       "0  https://img.phimmoichill.blog/images/film/newt...  \n",
       "1  https://img.phimmoichill.blog/images/film/ho-d...  \n",
       "2  https://img.phimmoichill.blog/images/film/trai...  \n",
       "3  https://img.phimmoichill.blog/images/film/yeu-...  \n",
       "4  https://img.phimmoichill.blog/images/film/ngo-...  "
      ]
     },
     "execution_count": 4,
     "metadata": {},
     "output_type": "execute_result"
    }
   ],
   "source": [
    "# Handling Film Has Status = 0 (Not Release)\n",
    "df_movie['status'].value_counts()\n",
    "df_movie = df_movie[df_movie['status'] == 1]\n",
    "df_movie.head()"
   ]
  },
  {
   "cell_type": "code",
   "execution_count": 5,
   "metadata": {},
   "outputs": [
    {
     "data": {
      "text/plain": [
       "(9502, 12)"
      ]
     },
     "execution_count": 5,
     "metadata": {},
     "output_type": "execute_result"
    }
   ],
   "source": [
    "# review shape of data\n",
    "df_movie.shape"
   ]
  },
  {
   "cell_type": "code",
   "execution_count": 6,
   "metadata": {},
   "outputs": [
    {
     "name": "stdout",
     "output_type": "stream",
     "text": [
      "<class 'pandas.core.frame.DataFrame'>\n",
      "Index: 9502 entries, 0 to 9504\n",
      "Data columns (total 12 columns):\n",
      " #   Column        Non-Null Count  Dtype  \n",
      "---  ------        --------------  -----  \n",
      " 0   url_film      9502 non-null   object \n",
      " 1   title         9502 non-null   object \n",
      " 2   describe      9502 non-null   object \n",
      " 3   rating        9502 non-null   object \n",
      " 4   rate_count    7392 non-null   float64\n",
      " 5   status        9502 non-null   int64  \n",
      " 6   release_year  9492 non-null   object \n",
      " 7   country       9502 non-null   object \n",
      " 8   genre         9502 non-null   object \n",
      " 9   director      9037 non-null   object \n",
      " 10  actor         9502 non-null   object \n",
      " 11  img_film      9502 non-null   object \n",
      "dtypes: float64(1), int64(1), object(10)\n",
      "memory usage: 965.0+ KB\n"
     ]
    }
   ],
   "source": [
    "# INFORMATION OF DATA\n",
    "\n",
    "df_movie.info()"
   ]
  },
  {
   "cell_type": "code",
   "execution_count": 7,
   "metadata": {},
   "outputs": [
    {
     "data": {
      "text/plain": [
       "url_film           0\n",
       "title              0\n",
       "describe           0\n",
       "rating             0\n",
       "rate_count      2110\n",
       "status             0\n",
       "release_year      10\n",
       "country            0\n",
       "genre              0\n",
       "director         465\n",
       "actor              0\n",
       "img_film           0\n",
       "dtype: int64"
      ]
     },
     "execution_count": 7,
     "metadata": {},
     "output_type": "execute_result"
    }
   ],
   "source": [
    "df_movie.isnull().sum()"
   ]
  },
  {
   "cell_type": "code",
   "execution_count": 8,
   "metadata": {},
   "outputs": [
    {
     "data": {
      "text/plain": [
       "0"
      ]
     },
     "execution_count": 8,
     "metadata": {},
     "output_type": "execute_result"
    }
   ],
   "source": [
    "# DUPLICATED DATA\n",
    "df_movie.duplicated().sum()"
   ]
  },
  {
   "cell_type": "code",
   "execution_count": 9,
   "metadata": {},
   "outputs": [],
   "source": [
    "# Handeling Missing Data\n",
    "df_movie['rate_count'] = df_movie['rate_count'].fillna( np.floor(df_movie['rate_count'].mean()))\n",
    "df_movie['director'] = df_movie['director'].fillna(\"Unknown\")\n",
    "df_movie['actor'] = df_movie['actor'].fillna(\"\")\n",
    "df_movie[\"release_year\"] = pd.to_numeric(df_movie[\"release_year\"], errors=\"coerce\")\n",
    "df_movie['release_year'] = df_movie['release_year'].fillna(df_movie['release_year'].median())\n"
   ]
  },
  {
   "cell_type": "code",
   "execution_count": 10,
   "metadata": {},
   "outputs": [
    {
     "data": {
      "text/plain": [
       "(9502, 12)"
      ]
     },
     "execution_count": 10,
     "metadata": {},
     "output_type": "execute_result"
    }
   ],
   "source": [
    "df_movie.shape"
   ]
  },
  {
   "cell_type": "code",
   "execution_count": 11,
   "metadata": {},
   "outputs": [
    {
     "data": {
      "text/plain": [
       "url_film        0\n",
       "title           0\n",
       "describe        0\n",
       "rating          0\n",
       "rate_count      0\n",
       "status          0\n",
       "release_year    0\n",
       "country         0\n",
       "genre           0\n",
       "director        0\n",
       "actor           0\n",
       "img_film        0\n",
       "dtype: int64"
      ]
     },
     "execution_count": 11,
     "metadata": {},
     "output_type": "execute_result"
    }
   ],
   "source": [
    "df_movie.isna().sum()"
   ]
  },
  {
   "cell_type": "code",
   "execution_count": 12,
   "metadata": {},
   "outputs": [
    {
     "data": {
      "text/plain": [
       "array(['7', '8', '9', '5', '4', '6', '10', '3', '51,302', '197,699', '2',\n",
       "       '35,297', '82,858', '74,035', '1', '59,700', '107,997', '160,071',\n",
       "       '205,577', '145,221', '21,377'], dtype=object)"
      ]
     },
     "execution_count": 12,
     "metadata": {},
     "output_type": "execute_result"
    }
   ],
   "source": [
    "df_movie['rating'].unique()"
   ]
  },
  {
   "cell_type": "code",
   "execution_count": 13,
   "metadata": {},
   "outputs": [
    {
     "data": {
      "text/plain": [
       "array([ 7.,  8.,  9.,  5.,  4.,  6., 10.,  3.,  2.,  1.])"
      ]
     },
     "execution_count": 13,
     "metadata": {},
     "output_type": "execute_result"
    }
   ],
   "source": [
    "df_movie['rating'] = df_movie['rating'].astype(str).str.replace(',', '').astype(float)\n",
    "df_movie['rating'] = df_movie['rating'].apply(lambda x: df_movie['rating'].median() if x > 10 else x)\n",
    "df_movie['rating'].unique()"
   ]
  },
  {
   "cell_type": "code",
   "execution_count": 14,
   "metadata": {},
   "outputs": [
    {
     "name": "stdout",
     "output_type": "stream",
     "text": [
      "<class 'pandas.core.frame.DataFrame'>\n",
      "Index: 9502 entries, 0 to 9504\n",
      "Data columns (total 12 columns):\n",
      " #   Column        Non-Null Count  Dtype  \n",
      "---  ------        --------------  -----  \n",
      " 0   url_film      9502 non-null   object \n",
      " 1   title         9502 non-null   object \n",
      " 2   describe      9502 non-null   object \n",
      " 3   rating        9502 non-null   float64\n",
      " 4   rate_count    9502 non-null   float64\n",
      " 5   status        9502 non-null   int64  \n",
      " 6   release_year  9502 non-null   float64\n",
      " 7   country       9502 non-null   object \n",
      " 8   genre         9502 non-null   object \n",
      " 9   director      9502 non-null   object \n",
      " 10  actor         9502 non-null   object \n",
      " 11  img_film      9502 non-null   object \n",
      "dtypes: float64(3), int64(1), object(8)\n",
      "memory usage: 965.0+ KB\n"
     ]
    }
   ],
   "source": [
    "df_movie.info()"
   ]
  },
  {
   "cell_type": "code",
   "execution_count": 15,
   "metadata": {},
   "outputs": [
    {
     "name": "stdout",
     "output_type": "stream",
     "text": [
      "0       [' Newtopia Tân Thế Giới 2025 xoay quanh về ...\n",
      "1       [' Hố Đen Tử Thần Interstellar 2014 Interstell...\n",
      "2       [' Trái Tim Bị Chôn Vùi Buried Hearts 2025 Câu...\n",
      "3       [' Yêu Là Đau Love Hurts 2025 Marvin Gable (do...\n",
      "4       [' Ngộ Phán The Prosecutor 2024 Câu chuyện xoa...\n",
      "                              ...                        \n",
      "9500    [' ', ' Shoot Me in the Heart 2015 Rung Động T...\n",
      "9501    [' ', ' The Longest Ride 2015 The Longest Ride...\n",
      "9502    [' ', ' 2011 2011 \"Biên giới của Hách Yên\" do ...\n",
      "9503    [' ', ' Runner Runner 2013 Aces, Runner Runner...\n",
      "9504    [' ', ' The Gunman 2015 The Gunman (2015) The ...\n",
      "Name: describe, Length: 9502, dtype: object\n",
      "[' Newtopia Tân Thế Giới 2025 xoay quanh về cặp đôi Lee Jae-yoon (do Park Jeong-min thủ vai) và Kang Young-ju (do Jisoo thủ vai), những người vừa chia tay nhưng cố gắng tái hợp sau khi một đại dịch zombie bùng phát, lan rộng khắp Hàn Quốc.\\xa0 ', ' ']\n",
      "[' ', ' Pokemon Movie 13: Zoroark Master of Illusions 2010 Pokémon 13 Dominion of Illusion Zoroark, Pokemon Movie 13: Zoroark Master of Illusions (2010) Movie \"Pokémon 13 Ruler of Illusion Zoroark\" Celebi từ tương lai sẽ du hành đến hiện tại để ngăn chặn cuộc chiến giữa Raikou, Entei và Suicune. Trong khi đó, Ash, Brock và Dawn đến Crown City để tham dự World Cup Pokemon hàng năm ngay khi các pokemon huyền thoại xuất hiện và tấn công thành phố. ', ' ']\n"
     ]
    }
   ],
   "source": [
    "print(df_movie['describe'])\n",
    "print(df_movie['describe'][0])\n",
    "print(df_movie['describe'][3000])\n"
   ]
  },
  {
   "cell_type": "code",
   "execution_count": 16,
   "metadata": {},
   "outputs": [
    {
     "data": {
      "text/plain": [
       "'Newtopia Tân Thế Giới 2025 xoay quanh về cặp đôi Lee Jaeyoon (do Park Jeongmin thủ vai) và Kang Youngju (do Jisoo thủ vai) những người vừa chia tay nhưng cố gắng tái hợp sau khi một đại dịch zombie bùng phát lan rộng khắp Hàn Quốc'"
      ]
     },
     "execution_count": 16,
     "metadata": {},
     "output_type": "execute_result"
    }
   ],
   "source": [
    "df_movie['describe'] = df_movie['describe'].apply(lambda x: re.sub(r'[^a-zA-ZÀ-ỹ0-9()\\s]', '', x))\n",
    "df_movie['describe'] = df_movie['describe'].str.strip()\n",
    "df_movie['describe'] = df_movie['describe'].apply(lambda x: x[:-3] if x.endswith(\"xa0\") else x)\n",
    "df_movie['describe'][0]"
   ]
  },
  {
   "cell_type": "code",
   "execution_count": 17,
   "metadata": {},
   "outputs": [
    {
     "data": {
      "text/plain": [
       "0       ['Park Jeong Min', 'Kim Ji Soo', 'Im Sung Jae'...\n",
       "1       ['Jessica Chastain', 'Matthew McConaughey', 'A...\n",
       "2       ['Park Hyung Sik', 'Hong Hwa Yeon', 'Huh Joon ...\n",
       "3       ['Quan Kế Huy', 'Ariana DeBose', 'Ngô Ngạn Tổ'...\n",
       "4       ['Chân Tử Đan', 'Trương Trí Lâm', 'Huệ Anh Hồng']\n",
       "                              ...                        \n",
       "9500    ['Lee Min Ki', 'Yeo Jin Goo', 'Kim Jung Tae', ...\n",
       "9501    ['Scott Eastwood', 'Jack Huston', 'Britt Rober...\n",
       "9502    ['Lương Gia Huy', 'Hà Nhuận Đông', 'Tống Giai'...\n",
       "9503    ['Gemma Arterton', 'Justin Timberlake', 'Ben A...\n",
       "9504        ['Idris Elba', 'Sean Penn', 'Jasmine Trinca']\n",
       "Name: actor, Length: 9502, dtype: object"
      ]
     },
     "execution_count": 17,
     "metadata": {},
     "output_type": "execute_result"
    }
   ],
   "source": [
    "df_movie['actor']"
   ]
  },
  {
   "cell_type": "code",
   "execution_count": 18,
   "metadata": {},
   "outputs": [
    {
     "name": "stdout",
     "output_type": "stream",
     "text": [
      "Park Jeong Min, Kim Ji Soo, Im Sung Jae, Kim Joon Han\n"
     ]
    }
   ],
   "source": [
    "df_movie['actor'] = df_movie['actor'].apply(lambda x: re.sub(r'[^a-zA-ZÀ-ỹ,\\s]', '', x))\n",
    "print(df_movie['actor'][0])"
   ]
  },
  {
   "cell_type": "code",
   "execution_count": 19,
   "metadata": {},
   "outputs": [
    {
     "data": {
      "image/png": "[encoded data removed]",
      "text/plain": [
       "<Figure size 800x500 with 1 Axes>"
      ]
     },
     "metadata": {},
     "output_type": "display_data"
    }
   ],
   "source": [
    "df_movie = df_movie[df_movie['rate_count'] < 11000]\n",
    "plt.figure(figsize=(8,5))\n",
    "sns.scatterplot(data=df_movie, y='rate_count', x='rating', color='red')\n",
    "plt.title(\"Rating vs Rate Count\")\n",
    "plt.ylabel(\"Rate Count\")\n",
    "plt.xlabel(\"Rating\")\n",
    "plt.show()"
   ]
  },
  {
   "cell_type": "code",
   "execution_count": 20,
   "metadata": {},
   "outputs": [
    {
     "data": {
      "image/png": "[encoded data removed]",
      "text/plain": [
       "<Figure size 1400x600 with 1 Axes>"
      ]
     },
     "metadata": {},
     "output_type": "display_data"
    }
   ],
   "source": [
    "plt.figure(figsize=(14,6))\n",
    "sns.countplot(x='release_year', data=df_movie, \n",
    "              order=sorted(df_movie['release_year'].unique()))\n",
    "plt.title(\"Movies per Year\")\n",
    "plt.xlabel(\"Release Year\")\n",
    "plt.ylabel(\"Count\")\n",
    "plt.xticks(rotation=90)\n",
    "plt.show()"
   ]
  },
  {
   "cell_type": "code",
   "execution_count": 21,
   "metadata": {},
   "outputs": [
    {
     "data": {
      "image/png": "[encoded data removed]",
      "text/plain": [
       "<Figure size 1000x500 with 1 Axes>"
      ]
     },
     "metadata": {},
     "output_type": "display_data"
    }
   ],
   "source": [
    "genres_series = df_movie['genre'].apply(lambda x: x.split(', ') if isinstance(x, str) else [])\n",
    "all_genres = [genre for sublist in genres_series for genre in sublist]\n",
    "genre_counts = Counter(all_genres)\n",
    "top_genres = genre_counts.most_common(10)\n",
    "top_genres_df = pd.DataFrame(top_genres, columns=['Genre', 'Count'])\n",
    "\n",
    "plt.figure(figsize=(10,5))\n",
    "sns.barplot(x='Genre', y='Count', data=top_genres_df, color='green')\n",
    "plt.title(\"Top 10 Genres\")\n",
    "plt.xlabel(\"Genre\")\n",
    "plt.ylabel(\"Count\")\n",
    "plt.xticks(rotation=45)\n",
    "plt.show()"
   ]
  },
  {
   "cell_type": "code",
   "execution_count": 22,
   "metadata": {},
   "outputs": [],
   "source": [
    "df_movie.to_csv('../data/data-film-final.csv', index=False)"
   ]
  },
  {
   "cell_type": "code",
   "execution_count": null,
   "metadata": {},
   "outputs": [],
   "source": []
  }
 ],
 "metadata": {
  "kernelspec": {
   "display_name": ".venv",
   "language": "python",
   "name": "python3"
  },
  "language_info": {
   "codemirror_mode": {
    "name": "ipython",
    "version": 3
   },
   "file_extension": ".py",
   "mimetype": "text/x-python",
   "name": "python",
   "nbconvert_exporter": "python",
   "pygments_lexer": "ipython3",
   "version": "3.10.11"
  }
 },
 "nbformat": 4,
 "nbformat_minor": 2
}
